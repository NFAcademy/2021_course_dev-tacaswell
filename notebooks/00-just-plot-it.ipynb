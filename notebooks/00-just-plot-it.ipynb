{
 "cells": [
  {
   "cell_type": "markdown",
   "id": "8b7894db-64cd-420c-9ecb-d95322481fb2",
   "metadata": {},
   "source": [
    "# Just Plot It!"
   ]
  },
  {
   "cell_type": "markdown",
   "id": "6e10e4c0-3168-43a7-98c0-896810de0c0b",
   "metadata": {},
   "source": [
    "## Introduction"
   ]
  },
  {
   "cell_type": "markdown",
   "id": "d55c276e-151c-4ad5-8455-95a9cf88c73f",
   "metadata": {
    "tags": []
   },
   "source": [
    "### The System"
   ]
  },
  {
   "cell_type": "markdown",
   "id": "4f79240a-f94b-4915-a073-ee76f4a46318",
   "metadata": {
    "tags": []
   },
   "source": [
    "In this course we will work with a set of \"experimental\" data to illustrate going from \"raw\" measurement (or simulation) data through exploratory visualization to an (almost) paper ready figure.\n",
    "\n",
    "In this scenario, we have fabricated (or simulated) 25 cantilevers.  There is some value (suggestively called \"control\") that varies between the cantilevers and we want to see how the properties of the cantilever are affect by \"control\".  To measure the properties of interest (the natural frequency and damping rate) we defelct each cantilever by the same amount and then observe the position as a fuction of time as the vibrations damp out."
   ]
  },
  {
   "cell_type": "markdown",
   "id": "8283343b-d843-4516-ae02-232cfbcc71b3",
   "metadata": {
    "tags": []
   },
   "source": [
    "### The Tools"
   ]
  },
  {
   "cell_type": "markdown",
   "id": "7ebb2e80-4b10-4fa1-9746-81ca192a033e",
   "metadata": {
    "tags": []
   },
   "source": [
    "We are going make use of: \n",
    "\n",
    "- [jupyter](https://jupyter.org)\n",
    "- [numpy](https://numpy.org)\n",
    "- [matplotlib](https://matplotlib.org)\n",
    "- [scipy](https://www.scipy.org/scipylib/index.html)\n",
    "- [xarray](http://xarray.pydata.org/en/stable/index.html)\n",
    "- [pandas](https://pandas.pydata.org/docs/)\n",
    "\n",
    "We are only going to scratch the surface of what any of these libraries can do!  For the purposes of this course we assume you know numpy and Matplotlib at least to the level of LINKS TO OTHER COURSES.  We will only be using one aspect (least square fitting) from scipy so no prior familarity is needed.  Similary, we will only be superficially making use of pandas and xarray to provied access to structured data.  No prior familiarity is requierd and if you want to learn more see LINK TO OTHER COURSES."
   ]
  },
  {
   "cell_type": "code",
   "execution_count": null,
   "id": "85336420-a871-492f-bb15-f93dc96c2527",
   "metadata": {},
   "outputs": [],
   "source": [
    "# interactive figures, requires ipypml!\n",
    "# %matplotlib widget\n",
    "%matplotlib inline\n",
    "import matplotlib.pyplot as plt\n",
    "import numpy as np\n",
    "import pandas as pd\n",
    "import scipy\n",
    "import xarray as xa"
   ]
  },
  {
   "cell_type": "markdown",
   "id": "5fbed005-64df-4470-94ca-6969151ac2fd",
   "metadata": {
    "tags": []
   },
   "source": [
    "### Philsophy"
   ]
  },
  {
   "cell_type": "markdown",
   "id": "034c1d74-dd43-474c-99f3-b779d44126df",
   "metadata": {},
   "source": [
    "While this coures uses Matplotlib for the visualization, the high-level lessons of this course are transferable to any plotting tools (in any language).\n",
    "\n",
    "At its core, programing in the process of taking existing tools (libraries) and building new tools more fit to your purpose.  This course will walk through a concrete example, starting with a pile of data and ending with a paper figure, of how to think about and design scientific visualizations tools tuned to exactly *your* data and questions."
   ]
  },
  {
   "cell_type": "markdown",
   "id": "bb1a5299-8d9b-41b0-9b50-783299335f01",
   "metadata": {},
   "source": [
    "## The Data"
   ]
  },
  {
   "cell_type": "markdown",
   "id": "5072a8a3-fa75-4d13-afc0-165f58233b81",
   "metadata": {},
   "source": [
    "### Accessing data\n",
    "\n",
    "As a rule-of-thumb I/O logic should be kept out of the inner loops of analysis or plotting.  This will, in the medium term, lead to more re-usable and maintainable code.  Remember your most frequent collaborator is yourself in 6 months.  Be kind to your (future) self and write re-usable, maintainable, and understandable code now ;)\n",
    "\n",
    "In this case, we have a data (simulation) function `get_data` that will simulate the experiment and returns to us a [`xarray.DataArray`](http://xarray.pydata.org/en/stable/quick-overview.html#create-a-dataarray).   `xarray.DataArray` is (roughly) a N-dimensional numpy array that is enriched by the concept of coordinates and indies on the the axes and meta-data.  \n",
    "\n",
    "`xarray` has much more functionality than we will use in this course!"
   ]
  },
  {
   "cell_type": "code",
   "execution_count": null,
   "id": "20e3da98-6cae-4437-bc63-ebe0a985e3db",
   "metadata": {},
   "outputs": [],
   "source": [
    "# not sure how else to get the helpers on the path!\n",
    "import sys\n",
    "sys.path.append('../scripts')"
   ]
  },
  {
   "cell_type": "code",
   "execution_count": null,
   "id": "606aad55-d3a9-4121-890d-1c404120736a",
   "metadata": {},
   "outputs": [],
   "source": [
    "from data_gen import get_data, fit"
   ]
  },
  {
   "cell_type": "markdown",
   "id": "124b29f0-52da-4bfa-a824-05a50d563cc8",
   "metadata": {},
   "source": [
    "### First look"
   ]
  },
  {
   "cell_type": "markdown",
   "id": "6653e023-e576-4c26-a1d5-5ff97fb3b5eb",
   "metadata": {},
   "source": [
    "Using the function `get_data` we can pull an `xarray.DataArray` into our namespace and the use the html repr from xarray to get a first look at the data"
   ]
  },
  {
   "cell_type": "code",
   "execution_count": null,
   "id": "0b6684f5-f8ab-43a6-9bf7-24dfe988761e",
   "metadata": {},
   "outputs": [],
   "source": [
    "d = get_data(25)\n",
    "d"
   ]
  },
  {
   "cell_type": "markdown",
   "id": "ce5fceef-995e-43d1-8b81-45c720a2b4c8",
   "metadata": {},
   "source": [
    "From this we can see that we have a, more-or-less, 2D array with 25 rows, each of which is a measurement that is a 4,112 point time series.  Because this is an DataArray it also caries on the coordinates the values of the control parameter for each measurement and the lag time on each of the measurments."
   ]
  },
  {
   "cell_type": "code",
   "execution_count": null,
   "id": "faa01a62-988c-43a7-ab26-8256ef216b64",
   "metadata": {},
   "outputs": [],
   "source": []
  }
 ],
 "metadata": {
  "kernelspec": {
   "display_name": "Python 3 (ipykernel)",
   "language": "python",
   "name": "python3"
  },
  "language_info": {
   "codemirror_mode": {
    "name": "ipython",
    "version": 3
   },
   "file_extension": ".py",
   "mimetype": "text/x-python",
   "name": "python",
   "nbconvert_exporter": "python",
   "pygments_lexer": "ipython3",
   "version": "3.10.0b4+"
  }
 },
 "nbformat": 4,
 "nbformat_minor": 5
}
