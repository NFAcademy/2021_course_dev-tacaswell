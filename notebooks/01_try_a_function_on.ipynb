{
 "cells": [
  {
   "cell_type": "markdown",
   "id": "e9c79102-ea87-41d9-b412-52531d825e29",
   "metadata": {},
   "source": [
    "# Try a function on for size"
   ]
  },
  {
   "cell_type": "code",
   "execution_count": 1,
   "id": "34fbe591-70d8-4e1f-ada5-a66371d52fb2",
   "metadata": {},
   "outputs": [],
   "source": [
    "# interactive figures, requires ipypml!\n",
    "%matplotlib widget\n",
    "#%matplotlib inline\n",
    "import matplotlib.pyplot as plt\n",
    "import numpy as np\n",
    "import pandas as pd\n",
    "import scipy\n",
    "import xarray as xa"
   ]
  },
  {
   "cell_type": "code",
   "execution_count": 2,
   "id": "faa23884-49f3-4191-baee-15816c948311",
   "metadata": {},
   "outputs": [],
   "source": [
    "# not sure how else to get the helpers on the path!\n",
    "import sys\n",
    "sys.path.append('../scripts')"
   ]
  },
  {
   "cell_type": "code",
   "execution_count": 3,
   "id": "e0df48ed-ae6e-4d79-9054-d368e059404c",
   "metadata": {},
   "outputs": [],
   "source": [
    "from data_gen import get_data, fit\n",
    "d = get_data(25)"
   ]
  },
  {
   "cell_type": "markdown",
   "id": "0d757eb0-5c08-4e48-9c01-a5646d2bdb32",
   "metadata": {
    "tags": []
   },
   "source": [
    "## Plot more than one curve"
   ]
  },
  {
   "cell_type": "markdown",
   "id": "f3c25db9-7ba9-4ea8-b78f-cdfc5c8cffd1",
   "metadata": {},
   "source": [
    "In the previous lesson we got as far making a plot with a single vibration curve in it:"
   ]
  },
  {
   "cell_type": "code",
   "execution_count": 5,
   "id": "e0b72147-a4c2-4008-8cc6-665c2fe628a2",
   "metadata": {},
   "outputs": [
    {
     "data": {
      "application/vnd.jupyter.widget-view+json": {
       "model_id": "7f1a239b9da14d41b1871631a9978700",
       "version_major": 2,
       "version_minor": 0
      },
      "text/plain": [
       "Canvas(toolbar=Toolbar(toolitems=[('Home', 'Reset original view', 'home', 'home'), ('Back', 'Back to previous …"
      ]
     },
     "metadata": {},
     "output_type": "display_data"
    }
   ],
   "source": [
    "fig, ax = plt.subplots()\n",
    "m = d[6]\n",
    "ax.plot(m.time, m, label=f'control = {float(m.control):.1f}')\n",
    "ax.set_xlabel('time (ms)')\n",
    "ax.set_ylabel('displacement (mm)')\n",
    "ax.legend();"
   ]
  },
  {
   "cell_type": "markdown",
   "id": "dc8d7313-f9a1-48c1-95f1-93b182681105",
   "metadata": {},
   "source": [
    "But we know that the scientifically interesting effect we want to see is how these curves change as a function of *control* so we really want to be able to see more than one curve at the same time.  Via copy-paste-edit we can get three curves on the axes:"
   ]
  },
  {
   "cell_type": "code",
   "execution_count": 6,
   "id": "2ec62ee2-7357-49ba-9da2-32e0985d369b",
   "metadata": {},
   "outputs": [
    {
     "data": {
      "application/vnd.jupyter.widget-view+json": {
       "model_id": "9da60ed6bd05456aa588b066e9ad6389",
       "version_major": 2,
       "version_minor": 0
      },
      "text/plain": [
       "Canvas(toolbar=Toolbar(toolitems=[('Home', 'Reset original view', 'home', 'home'), ('Back', 'Back to previous …"
      ]
     },
     "metadata": {},
     "output_type": "display_data"
    }
   ],
   "source": [
    "fig, ax = plt.subplots()\n",
    "m = d[6]\n",
    "ax.plot(m.time, m, label=f'control = {float(m.control):.1f}')\n",
    "m = d[0]\n",
    "ax.plot(m.time, m, label=f'control = {float(m.control):.1f}')\n",
    "m = d[-1]\n",
    "ax.plot(m.time, m, label=f'control = {float(m.control):.1f}')\n",
    "ax.set_xlabel('time (ms)')\n",
    "ax.set_ylabel('displacement (mm)')\n",
    "ax.legend();"
   ]
  },
  {
   "cell_type": "markdown",
   "id": "5021f0f6-7918-49f5-9bb2-0cf39841a299",
   "metadata": {},
   "source": [
    "### Add an offset\n",
    "\n",
    "While this is better than \"plot everything\" from the first it is still a bit too busy to be readily understood.  One technique we can use is to add an offset to the data before plotting to separate the data visually"
   ]
  },
  {
   "cell_type": "code",
   "execution_count": 8,
   "id": "a28ad18e-0229-4230-9e3e-afafed705665",
   "metadata": {},
   "outputs": [
    {
     "data": {
      "application/vnd.jupyter.widget-view+json": {
       "model_id": "96da6241a08a4744ac2794c7a3451995",
       "version_major": 2,
       "version_minor": 0
      },
      "text/plain": [
       "Canvas(toolbar=Toolbar(toolitems=[('Home', 'Reset original view', 'home', 'home'), ('Back', 'Back to previous …"
      ]
     },
     "metadata": {},
     "output_type": "display_data"
    }
   ],
   "source": [
    "fig, ax = plt.subplots()\n",
    "m = d[6]\n",
    "ax.plot(m.time, m + 0, label=f'control = {float(m.control):.1f}')\n",
    "m = d[0]\n",
    "ax.plot(m.time, m + 4 , label=f'control = {float(m.control):.1f}')\n",
    "m = d[-1]\n",
    "ax.plot(m.time, m + 8, label=f'control = {float(m.control):.1f}')\n",
    "ax.set_xlabel('time (ms)')\n",
    "ax.set_ylabel('displacement [offset] (mm)')\n",
    "ax.legend();"
   ]
  },
  {
   "cell_type": "markdown",
   "id": "79a196c7-1837-46ba-8ccf-5436bcc64d24",
   "metadata": {},
   "source": [
    "### Refactor to a loop\n",
    "\n",
    "Looking at this cell there is a fair amount of (nearly identical) duplicated code.  This suggests that we should try using a loop to reduce the duplication.  This will make the code easier to read (as it will be clear what is different each pass through the loop) make it easier to make future updates (as the change only has to be made once), and makes in easier to change the number of curves plotted (by changing the loop)"
   ]
  },
  {
   "cell_type": "code",
   "execution_count": 9,
   "id": "9e07fdda-07fe-4deb-9dec-350439e75338",
   "metadata": {},
   "outputs": [
    {
     "data": {
      "application/vnd.jupyter.widget-view+json": {
       "model_id": "99fd17594afd4f8fa31b8da31c04ecfe",
       "version_major": 2,
       "version_minor": 0
      },
      "text/plain": [
       "Canvas(toolbar=Toolbar(toolitems=[('Home', 'Reset original view', 'home', 'home'), ('Back', 'Back to previous …"
      ]
     },
     "metadata": {},
     "output_type": "display_data"
    }
   ],
   "source": [
    "fig, ax = plt.subplots()\n",
    "for j, indx in enumerate([6, 0, -1]):\n",
    "    m = d[indx]\n",
    "    ax.plot(m.time, m + j * 4, label=f'control = {float(m.control):.1f}')\n",
    "ax.set_xlabel('time (ms)')\n",
    "ax.set_ylabel('displacement [offset] (mm)')\n",
    "ax.legend();"
   ]
  },
  {
   "cell_type": "markdown",
   "id": "e1e366fa-a5b6-46a8-842a-40fb551d61b9",
   "metadata": {
    "tags": []
   },
   "source": [
    "## With a little help from my ~friends~ function"
   ]
  },
  {
   "cell_type": "markdown",
   "id": "1f550126-50ed-4bea-851b-b9690e5080ff",
   "metadata": {},
   "source": [
    "Looking at the body of that loop we have a section of code that does a well scoped task \"Given a curve plot it (with an offset) making sure it has a good label\".  We want to pull this out into a function (it is only two lines now, but it will grow!) so that we can re-use this logic.  However, we are now faced with a design choice: what should the signature of our function be?!  We could mechanically lift the loop body out and make all of the variables input:\n",
    "\n",
    "\n",
    "```python\n",
    "def plot_one(ax: Axes, d: FullDataSet, indx: int, j: int):\n",
    "    ...\n",
    "```\n",
    "\n",
    "This would allow us to copy-paste our loop body into the function and go on our way (and is also what some IDEs might offer to do for you!), but this is not the best design.  It both tells the function too much and not enough.  Because we are passing in the whole data set and an index we are offering the function more information that it needs to do its job, it only needs the curve it cares about!  Further, because we are also passing in the index of the full data set to pull out, if we were to end up having just one curve and wanted to use this function we would have to re-wrap the curve in something that we could then have the function index\n",
    "\n",
    "```python\n",
    "plot_one(ax, [single_curve], 0, 0)  # why do this?\n",
    "```\n",
    "\n",
    "The first change we should make to the signature is take in a single curve rather than the full data set and an index:\n",
    "\n",
    "```python\n",
    "def plot_one(ax: Axes, experiment: OneExperiment, j: int):\n",
    "    ...\n",
    "```\n",
    "\n",
    "Now we should look at *j* which is passing too little information into the function!  In loop we had a hard-coded factor of `4` in the offset computation.  As currently proposed we would only be able to offset the curves in multiples of 4!  We could relax the API a bit to allow *j* to also be a float, but then when using this function you would have to know about the magic number 4 and do\n",
    "\n",
    "```python\n",
    "plot_one(ax, single_curve, the_offset_I_want / 4)  # why do this?\n",
    "```\n",
    "\n",
    "Hence, we want to change our proposed signature to be:\n",
    "\n",
    "```python\n",
    "def plot_one(ax: Axes, experiment: OneExperment, offset: float=0):\n",
    "    ...\n",
    "```\n",
    "\n",
    "where we also set a default value for the offset.\n",
    "\n",
    "Adapting the function body to match this signature we write"
   ]
  },
  {
   "cell_type": "code",
   "execution_count": 16,
   "id": "45184110-3e51-4fd5-ba53-7b65730eb003",
   "metadata": {},
   "outputs": [],
   "source": [
    "def plot_one(ax: 'Axes', experiment: 'OneExperiment', offset: float=0) -> 'Dict[str, Artist]':\n",
    "    \"\"\"Given a curve plot it (with an offset) and format a label for a legend.\n",
    "    \n",
    "    Parameters\n",
    "    ----------\n",
    "    ax : mpl.Axes\n",
    "        The axes to add the plot to\n",
    "        \n",
    "    experiment : OneExperiment\n",
    "        An xarray DataArray with a vector 'time' and scalar 'control' coordinates.\n",
    "        \n",
    "    offset : float, optional\n",
    "        A vertical offset to apply to before plotting\n",
    "        \n",
    "    Returns\n",
    "    -------\n",
    "    curve : Line2D\n",
    "        The Line2D object for the curve \n",
    "    \"\"\"\n",
    "    return ax.plot(\n",
    "        experiment.time, \n",
    "        experiment + offset, \n",
    "        label=f'control = {float(experiment.control):.1f}'\n",
    "    )"
   ]
  },
  {
   "cell_type": "markdown",
   "id": "db858d08-a846-4937-8737-01defd2253c3",
   "metadata": {},
   "source": [
    "The docstring (which is indeed currently longer than the function body!) follows the [numpydoc](https://numpydoc.readthedocs.io/en/latest/format.html#docstring-standard).  While it is not the only docstring convention in use, you will see a lot of docstrings in this format because it is followed by many of the core projects (numpy, scipy, Matplotlib, scikit-learn, ...) of the scientific Python ecosystem."
   ]
  },
  {
   "cell_type": "code",
   "execution_count": 17,
   "id": "6a2d0bcb-740a-4167-aa45-75dc54a47d0b",
   "metadata": {},
   "outputs": [
    {
     "data": {
      "text/plain": [
       "xarray.core.dataarray.DataArray"
      ]
     },
     "execution_count": 17,
     "metadata": {},
     "output_type": "execute_result"
    }
   ],
   "source": [
    "type(d[6])"
   ]
  },
  {
   "cell_type": "code",
   "execution_count": 18,
   "id": "a01ac634-cdf5-4013-9f0e-827dabbca5af",
   "metadata": {},
   "outputs": [
    {
     "data": {
      "application/vnd.jupyter.widget-view+json": {
       "model_id": "1c2957c629554e7abac2c9629362184a",
       "version_major": 2,
       "version_minor": 0
      },
      "text/plain": [
       "Canvas(toolbar=Toolbar(toolitems=[('Home', 'Reset original view', 'home', 'home'), ('Back', 'Back to previous …"
      ]
     },
     "metadata": {},
     "output_type": "display_data"
    }
   ],
   "source": [
    "fig, ax = plt.subplots()\n",
    "for j, indx in enumerate([6, 0, -1]):\n",
    "    plot_one(ax, d[indx], j*4)\n",
    "ax.set_xlabel('time (ms)')\n",
    "ax.set_ylabel('displacement [offset] (mm)')\n",
    "ax.legend();"
   ]
  },
  {
   "cell_type": "markdown",
   "id": "bfc3ce32-8706-4105-ab25-2fdfbfceacbe",
   "metadata": {},
   "source": [
    "We now ask \"was it worth it?\" for creating this function.  Currently we only have one statement in the function body and in our calling cell we only saved ourselves one local variable! In the next couple of lessons we are going to expand this function, but even if we stopped here, I think this function is worth having.  What it is expressing, in addition to the `ax.plot` call is that the data in **this** use-case is a 1D-vector which caries with it an associated *time* and *control* attributes.  This may seem trivial, but by using xarray (or pandas, awkward array, or a dictionary of numpy arrays) to structurally encode the important relationships between the parts of your data.  This function knows how to use this structure to \"do the right thing\"."
   ]
  },
  {
   "cell_type": "markdown",
   "id": "5dbc791e-79e5-4738-990b-4481d9a56411",
   "metadata": {},
   "source": [
    "## Style the curves\n",
    "\n",
    "Our function, despite its upsides, has in fact cost us some functionality.  In addition to *label*, `ax.plot` can take a wide range of key-word arguments to control the styling of the line.  To get this back we can either pass a all extra key-word arguments through to the `ax.plot` call like\n",
    "\n",
    "```python\n",
    "\n",
    "def plot_one(..., **kwargs_for_plot):\n",
    "    return ax.plot(..., **kwargs_for_plot)\n",
    "```\n",
    "\n",
    "which is a very common pattern when wrapping APIs.  However, because with Python there can only be exactly on \"all the extra keyword collectors\".  THis "
   ]
  }
 ],
 "metadata": {
  "kernelspec": {
   "display_name": "Python 3 (ipykernel)",
   "language": "python",
   "name": "python3"
  },
  "language_info": {
   "codemirror_mode": {
    "name": "ipython",
    "version": 3
   },
   "file_extension": ".py",
   "mimetype": "text/x-python",
   "name": "python",
   "nbconvert_exporter": "python",
   "pygments_lexer": "ipython3",
   "version": "3.9.6"
  }
 },
 "nbformat": 4,
 "nbformat_minor": 5
}
