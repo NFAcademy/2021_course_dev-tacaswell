{
 "cells": [
  {
   "cell_type": "markdown",
   "id": "e9c79102-ea87-41d9-b412-52531d825e29",
   "metadata": {},
   "source": [
    "# Try a function on for size"
   ]
  },
  {
   "cell_type": "code",
   "execution_count": null,
   "id": "34fbe591-70d8-4e1f-ada5-a66371d52fb2",
   "metadata": {},
   "outputs": [],
   "source": [
    "# interactive figures, requires ipypml!\n",
    "%matplotlib widget\n",
    "#%matplotlib inline\n",
    "import matplotlib.pyplot as plt\n",
    "import numpy as np\n",
    "import pandas as pd\n",
    "import scipy\n",
    "import xarray as xa"
   ]
  },
  {
   "cell_type": "code",
   "execution_count": null,
   "id": "faa23884-49f3-4191-baee-15816c948311",
   "metadata": {},
   "outputs": [],
   "source": [
    "# not sure how else to get the helpers on the path!\n",
    "import sys\n",
    "sys.path.append('../scripts')"
   ]
  },
  {
   "cell_type": "code",
   "execution_count": null,
   "id": "e0df48ed-ae6e-4d79-9054-d368e059404c",
   "metadata": {},
   "outputs": [],
   "source": [
    "from data_gen import get_data, fit\n",
    "d = get_data(25)"
   ]
  },
  {
   "cell_type": "markdown",
   "id": "0d757eb0-5c08-4e48-9c01-a5646d2bdb32",
   "metadata": {
    "tags": []
   },
   "source": [
    "## Plot more than one curve"
   ]
  },
  {
   "cell_type": "markdown",
   "id": "f3c25db9-7ba9-4ea8-b78f-cdfc5c8cffd1",
   "metadata": {},
   "source": [
    "In the previous lesson we got as far making a plot with a single vibration curve in it:"
   ]
  },
  {
   "cell_type": "code",
   "execution_count": null,
   "id": "e0b72147-a4c2-4008-8cc6-665c2fe628a2",
   "metadata": {},
   "outputs": [],
   "source": [
    "fig, ax = plt.subplots()\n",
    "m = d[6]\n",
    "ax.plot(m.time, m, label=f'control = {float(m.control):.1f}')\n",
    "ax.set_xlabel('time (ms)')\n",
    "ax.set_ylabel('displacement (mm)')\n",
    "ax.legend();"
   ]
  },
  {
   "cell_type": "markdown",
   "id": "dc8d7313-f9a1-48c1-95f1-93b182681105",
   "metadata": {},
   "source": [
    "But we know that the scientifically interesting effect we want to see is how these curves change as a function of *control* so we really want to be able to see more than one curve at the same time.  Via copy-paste-edit we can get three curves on the axes:"
   ]
  },
  {
   "cell_type": "code",
   "execution_count": null,
   "id": "2ec62ee2-7357-49ba-9da2-32e0985d369b",
   "metadata": {},
   "outputs": [],
   "source": [
    "fig, ax = plt.subplots()\n",
    "m = d[6]\n",
    "ax.plot(m.time, m, label=f'control = {float(m.control):.1f}')\n",
    "m = d[0]\n",
    "ax.plot(m.time, m, label=f'control = {float(m.control):.1f}')\n",
    "m = d[-1]\n",
    "ax.plot(m.time, m, label=f'control = {float(m.control):.1f}')\n",
    "ax.set_xlabel('time (ms)')\n",
    "ax.set_ylabel('displacement (mm)')\n",
    "ax.legend();"
   ]
  },
  {
   "cell_type": "markdown",
   "id": "5021f0f6-7918-49f5-9bb2-0cf39841a299",
   "metadata": {},
   "source": [
    "### Add an offset\n",
    "\n",
    "While this is better than \"plot everything\" from the first it is still a bit too busy to be readily understood.  One technique we can use is to add an offset to the data before plotting to separate the data visually"
   ]
  },
  {
   "cell_type": "code",
   "execution_count": null,
   "id": "a28ad18e-0229-4230-9e3e-afafed705665",
   "metadata": {},
   "outputs": [],
   "source": [
    "fig, ax = plt.subplots()\n",
    "m = d[6]\n",
    "ax.plot(m.time, m + 0, label=f'control = {float(m.control):.1f}')\n",
    "m = d[0]\n",
    "ax.plot(m.time, m + 4 , label=f'control = {float(m.control):.1f}')\n",
    "m = d[-1]\n",
    "ax.plot(m.time, m + 8, label=f'control = {float(m.control):.1f}')\n",
    "ax.set_xlabel('time (ms)')\n",
    "ax.set_ylabel('displacement [offset] (mm)')\n",
    "ax.legend();"
   ]
  },
  {
   "cell_type": "markdown",
   "id": "79a196c7-1837-46ba-8ccf-5436bcc64d24",
   "metadata": {},
   "source": [
    "### Refactor to a loop\n",
    "\n",
    "Looking at this cell there is a fair amount of (nearly identical) duplicated code.  This suggests that we should try using a loop to reduce the duplication.  This will make the code easier to read (as it will be clear what is different each pass through the loop) make it easier to make future updates (as the change only has to be made once), and makes in easier to change the number of curves plotted (by changing the loop)"
   ]
  },
  {
   "cell_type": "code",
   "execution_count": null,
   "id": "9e07fdda-07fe-4deb-9dec-350439e75338",
   "metadata": {},
   "outputs": [],
   "source": [
    "fig, ax = plt.subplots()\n",
    "for j, indx in enumerate([6, 0, -1]):\n",
    "    m = d[indx]\n",
    "    ax.plot(m.time, m + j * 4, label=f'control = {float(m.control):.1f}')\n",
    "ax.set_xlabel('time (ms)')\n",
    "ax.set_ylabel('displacement [offset] (mm)')\n",
    "ax.legend();"
   ]
  },
  {
   "cell_type": "markdown",
   "id": "e1e366fa-a5b6-46a8-842a-40fb551d61b9",
   "metadata": {
    "tags": []
   },
   "source": [
    "## With a little help from my ~friends~ function"
   ]
  },
  {
   "cell_type": "markdown",
   "id": "1f550126-50ed-4bea-851b-b9690e5080ff",
   "metadata": {},
   "source": [
    "Looking at the body of that loop we have a section of code that does a well scoped task \"Given a curve plot it (with an offset) making sure it has a good label\".  We want to pull this out into a function (it is only two lines now, but it will grow!) so that we can re-use this logic.  However, we are now faced with a design choice: what should the signature of our function be?!  We could mechanically lift the loop body out and make all of the variables input:\n",
    "\n",
    "\n",
    "```python\n",
    "def plot_one(ax: Axes, d: FullDataSet, indx: int, j: int):\n",
    "    ...\n",
    "```\n",
    "\n",
    "This would allow us to copy-paste our loop body into the function and go on our way (and is also what some IDEs might offer to do for you!), but this is not the best design.  It both tells the function too much and not enough.  Because we are passing in the whole data set and an index we are offering the function more information that it needs to do its job, it only needs the curve it cares about!  Further, because we are also passing in the index of the full data set to pull out, if we were to end up having just one curve and wanted to use this function we would have to re-wrap the curve in something that we could then have the function index\n",
    "\n",
    "```python\n",
    "plot_one(ax, [single_curve], 0, 0)  # why do this?\n",
    "```\n",
    "\n",
    "The first change we should make to the signature is take in a single curve rather than the full data set and an index:\n",
    "\n",
    "```python\n",
    "def plot_one(ax: Axes, experiment: OneExperiment, j: int):\n",
    "    ...\n",
    "```\n",
    "\n",
    "Now we should look at *j* which is passing too little information into the function!  In loop we had a hard-coded factor of `4` in the offset computation.  As currently proposed we would only be able to offset the curves in multiples of 4!  We could relax the API a bit to allow *j* to also be a float, but then when using this function you would have to know about the magic number 4 and do\n",
    "\n",
    "```python\n",
    "plot_one(ax, single_curve, the_offset_I_want / 4)  # why do this?\n",
    "```\n",
    "\n",
    "Another option would be to pass both the step and the offset in as \n",
    "\n",
    "```python\n",
    "def plot_one(..., j: int, step_size: float):\n",
    "    offset = j * step_size\n",
    "    ...\n",
    "```\n",
    "\n",
    "however this would result in the *j* and *step_size* arguments being very tightly coupled (as they are immediately multiplied together!) and there would be an infinite number of ways to call the function that would result in the same output!  There is nothing technically wrong with this, but it can lead to confusion later when it is not obvious that\n",
    "\n",
    "```python\n",
    "plot_one(..., 1, 10)  # do these have\n",
    "plot_one(..., 10, 1)  # the same offset?\n",
    "```\n",
    "\n",
    "are equivalent calls!  That said, it is possible this function could be extended to have more functionality and we would need to be able to express \"half way to the next curve\" in the code.\n",
    "\n",
    "A third way to structure this API would be \n",
    "\n",
    "```python\n",
    "def plot_one(..., offset: float):\n",
    "    ...\n",
    "```\n",
    "\n",
    "which has the virtue of being the simplest and easiest to explain.  It \"does what it says on the tin\" and offsets the data by what ever value you pass in.\n",
    "\n",
    "\n",
    "Going with the simplest option, we select an API of:\n",
    "\n",
    "```python\n",
    "def plot_one(ax: Axes, experiment: OneExperment, offset: float=0):\n",
    "    ...\n",
    "```\n",
    "\n",
    "where we also set a default value for the offset.\n",
    "\n",
    "Adapting the function body to match this signature we write"
   ]
  },
  {
   "cell_type": "code",
   "execution_count": null,
   "id": "45184110-3e51-4fd5-ba53-7b65730eb003",
   "metadata": {},
   "outputs": [],
   "source": [
    "def plot_one(ax: 'Axes', experiment: 'OneExperiment', offset: float=0) -> 'Dict[str, Artist]':\n",
    "    \"\"\"Given a curve plot it (with an offset) and format a label for a legend.\n",
    "    \n",
    "    Parameters\n",
    "    ----------\n",
    "    ax : mpl.Axes\n",
    "        The axes to add the plot to\n",
    "        \n",
    "    experiment : OneExperiment\n",
    "        An xarray DataArray with a vector 'time' and scalar 'control' coordinates.\n",
    "        \n",
    "    offset : float, optional\n",
    "        A vertical offset to apply to before plotting\n",
    "        \n",
    "    Returns\n",
    "    -------\n",
    "    curve : Line2D\n",
    "        The Line2D object for the curve \n",
    "    \"\"\"\n",
    "    return ax.plot(\n",
    "        experiment.time, \n",
    "        experiment + offset, \n",
    "        label=f'control = {float(experiment.control):.1f}'\n",
    "    )"
   ]
  },
  {
   "cell_type": "markdown",
   "id": "db858d08-a846-4937-8737-01defd2253c3",
   "metadata": {},
   "source": [
    "The docstring (which is indeed currently longer than the function body!) follows the [numpydoc](https://numpydoc.readthedocs.io/en/latest/format.html#docstring-standard).  While it is not the only docstring convention in use, you will see a lot of docstrings in this format because it is followed by many of the core projects (numpy, scipy, Matplotlib, scikit-learn, ...) of the scientific Python ecosystem."
   ]
  },
  {
   "cell_type": "code",
   "execution_count": null,
   "id": "6a2d0bcb-740a-4167-aa45-75dc54a47d0b",
   "metadata": {},
   "outputs": [],
   "source": [
    "type(d[6])"
   ]
  },
  {
   "cell_type": "code",
   "execution_count": null,
   "id": "a01ac634-cdf5-4013-9f0e-827dabbca5af",
   "metadata": {},
   "outputs": [],
   "source": [
    "fig, ax = plt.subplots()\n",
    "for j, indx in enumerate([6, 0, -1]):\n",
    "    plot_one(ax, d[indx], j*4)\n",
    "ax.set_xlabel('time (ms)')\n",
    "ax.set_ylabel('displacement [offset] (mm)')\n",
    "ax.legend();"
   ]
  },
  {
   "cell_type": "markdown",
   "id": "bfc3ce32-8706-4105-ab25-2fdfbfceacbe",
   "metadata": {},
   "source": [
    "We now ask \"was it worth it?\" for creating this function.  Currently we only have one statement in the function body and in our calling cell we only saved ourselves one local variable! In the next couple of lessons we are going to expand this function, but even if we stopped here, I think this function is worth having.  What it is expressing, in addition to the `ax.plot` call is that the data in **this** use-case is a 1D-vector which caries with it an associated *time* and *control* attributes.  This may seem trivial, but by using xarray (or pandas, awkward array, or a dictionary of numpy arrays) to structurally encode the important relationships between the parts of your data.  This function knows how to use this structure to \"do the right thing\"."
   ]
  },
  {
   "cell_type": "markdown",
   "id": "4a3e982a-ba7c-4347-8ddc-0c74dfd41d3b",
   "metadata": {},
   "source": [
    "## Style the curves\n",
    "\n",
    "Our function, despite its upsides, has in fact cost us some functionality: we can no longer directly control any of the properties of the Line2D object!"
   ]
  },
  {
   "cell_type": "markdown",
   "id": "d2c60d2e-3d13-46ef-8095-367b2befe2e2",
   "metadata": {},
   "source": [
    "### Sidebar: variadic keyword arguments and API design\n",
    "\n",
    "\n",
    "In addition to *label*, `ax.plot` can take a wide range of key-word arguments to control the styling of the line.  To get this back we can either pass a all extra key-word arguments through to the `ax.plot` call like\n",
    "\n",
    "```python\n",
    "\n",
    "def plot_one(..., **kwargs_for_plot):\n",
    "    return ax.plot(..., **kwargs_for_plot)\n",
    "```\n",
    "\n",
    "which is a very common pattern when wrapping APIs.  However, because with Python there can only be exactly on \"all the extra keyword collectors\".  Thus, if you are only wrapping one thing, this can lead to very natural extensions of existing APIs that are better suited to your purpose.  However if we want to route arguments to more than one underlying function we quickly get into trouble.  One option is to pass the `**kwargs` to every function like\n",
    "\n",
    "```python\n",
    "def wrapper(..., **kwargs):\n",
    "    a(**kwargs)\n",
    "    b(**kwargs)\n",
    "    ...\n",
    "```\n",
    "which works so long both functions have the same API _and_ you want to pass the same arguments to each of them.  One way to get this pattern to work is to have your inner functions take and ignore any key-word arguments it does not know about.  While this will work, and almost never raise an exception, that leads to APIs that are extremely difficult to use because if you miss-type a keyword name rather than Python raising at `TypeError` and telling you, your code just eats it!  As a rule of thumb, if you write a function that takes `**kwargs` then you should \n",
    "\n",
    "1. pass them onto an inner function\n",
    "2. validate that you only have an expected sub-set of keys\n",
    "3. document that the user-controlled keyword names are part of the input (like the `dict` intit method!).\n",
    "\n",
    "If you are lucky enough that the keywords are non-overlapping it may be possible to split the keys and route to the correct function\n",
    "\n",
    "```python\n",
    "def wrapper(..., **kwargs):\n",
    "    a_kwargs, b_kwargs = split_kwargs(kwargs)\n",
    "    a(**a_kwargs)\n",
    "    b(**b_kwargs)\n",
    "    ...\n",
    "```\n",
    "\n",
    "however it may not be trivial to write `split_kwargs`.  If the the keywords to overlap (for example both `a` and`b` take a *color* keyword argument), then there is no way to split the input.  You could route the over-lapping keywords to _both_ functions, but that does not cover the case where you want to send different values to the two functions.\n",
    "\n",
    "In these situations, we can use the idiom of\n",
    "\n",
    "```python\n",
    "def wrapper(..., *, a_kwargs=None, b_kwargs=None):\n",
    "    a_kwargs = a_kwargs if a_kwargs is not None else {}\n",
    "    b_kwargs = b_kwargs if b_kwargs is not None else {}\n",
    "    a(**a_kwargs)\n",
    "    b(**b_kwargs)\n",
    "    ...\n",
    "```\n",
    "\n",
    "which is not ideal (it is very hard for IDE and static analyzers to help you out), but sometimes it is the least-bad option!"
   ]
  },
  {
   "cell_type": "markdown",
   "id": "78b7a042-523a-43fd-8c17-484bd59335e8",
   "metadata": {},
   "source": [
    "#### Sidebar: types of arguments\n",
    "\n",
    "As of Python 3.8 the inputs to a function can be:\n",
    "\n",
    "- positional only\n",
    "- positional or keyword\n",
    "- keyword only\n",
    "\n",
    "and independently required or optional (has a default value) with the restriction that once a positional argument is optional, all later positional arguments must also be optional to avoid ambiguity.  This means that in "
   ]
  },
  {
   "cell_type": "code",
   "execution_count": null,
   "id": "a9729f46-c60e-43a2-b9fb-c8c3f115fa1b",
   "metadata": {},
   "outputs": [],
   "source": [
    "from inspect import signature\n",
    "\n",
    "def example(a, /, b, c=None, *, d, e=None):\n",
    "    ...\n",
    "    \n",
    "sig = signature(example)\n",
    "{k: (v, v.kind) for k, v in sig.parameters.items()}"
   ]
  },
  {
   "cell_type": "markdown",
   "id": "d737b5f5-011e-42fd-a20e-2220bb3c281a",
   "metadata": {},
   "source": [
    "*a* can only be passed by position (not by keyword) so"
   ]
  },
  {
   "cell_type": "code",
   "execution_count": null,
   "id": "368d8243-912a-4f97-af76-d2a623a3ffdf",
   "metadata": {},
   "outputs": [],
   "source": [
    "example(a=1, b=2, d=0)"
   ]
  },
  {
   "cell_type": "markdown",
   "id": "5f55117d-a17f-4375-98c7-3e4400efcda8",
   "metadata": {},
   "source": [
    "fails with `TypeError`.  Similarly *d* can _only_ be passed as a keyword argument so"
   ]
  },
  {
   "cell_type": "code",
   "execution_count": null,
   "id": "c4b9a052-2c49-48bc-a4a1-fc65c4a8fbad",
   "metadata": {},
   "outputs": [],
   "source": [
    "example(1, 2, 3, 4)"
   ]
  },
  {
   "cell_type": "markdown",
   "id": "8b789834-06a6-4f1b-8050-1c76c10d15a9",
   "metadata": {},
   "source": [
    "also fails with `TypeError`."
   ]
  },
  {
   "cell_type": "markdown",
   "id": "59bea3f9-916e-4ca7-8dba-86f57aec5c5e",
   "metadata": {},
   "source": [
    "When thinking about how to design APIs you can use these to nudge your users (or your future self) into the right direction.  For example, use position-only arguments if you want to keep the names of your parameters out of the API.  On the other hand, keyword-only arguments are extremely useful for cases where you may have (too) many inputs and you want to make sure the _order_ of the parameters does not leak into your API."
   ]
  },
  {
   "cell_type": "markdown",
   "id": "329f55f9-4fee-468d-9161-a1f9b2917efe",
   "metadata": {},
   "source": [
    "#### Sidebar: mutable defaults: not even once\n",
    "\n",
    "Be very cautious about using mutable default arguments, they can lead to very surprising results:"
   ]
  },
  {
   "cell_type": "code",
   "execution_count": null,
   "id": "64b56c5e-b660-4a59-8e22-7fc104ab66c0",
   "metadata": {},
   "outputs": [],
   "source": [
    "def wat(a, b=[]):\n",
    "    b.append(a)\n",
    "    print(a + len(b))\n",
    "    \n",
    "    \n",
    "wat(1)\n",
    "wat(1)\n",
    "wat(1)\n",
    "wat(1, [])\n",
    "wat(1)"
   ]
  },
  {
   "cell_type": "markdown",
   "id": "3f347525-f4aa-473e-b10d-ba7b55512467",
   "metadata": {},
   "source": [
    "What is going on is that the default value of *b* is evaluated once when the function is defined.  Each subsequent call, when not explicitly passed *b*, uses the same `list` instance, hence the length of *b* keeps growing!  While this can be exploited for inter-call caching / memmoization, it is probably better to reach for `functools.lrucache`."
   ]
  },
  {
   "cell_type": "markdown",
   "id": "14aadc35-b50d-4c2b-b402-491b2c3bca62",
   "metadata": {},
   "source": [
    "### Route arguments to plot\n",
    "\n",
    "As discussed above, the least-bad API choice we have, assuming we will want to route to additional methods in the near future, is"
   ]
  },
  {
   "cell_type": "code",
   "execution_count": null,
   "id": "42fefb7e-5a7e-4cac-be3f-5a417500f664",
   "metadata": {},
   "outputs": [],
   "source": [
    "def plot_one(\n",
    "    ax: \"Axes\",\n",
    "    experiment: \"OneExperiment\",\n",
    "    offset: float = 0,\n",
    "    *,\n",
    "    line_style: \"Dict[str, Any]\" = None,\n",
    ") -> \"Dict[str, Artist]\":\n",
    "    \"\"\"Given a curve plot it (with an offset) and format a label for a legend.\n",
    "\n",
    "    Parameters\n",
    "    ----------\n",
    "    ax : mpl.Axes\n",
    "        The axes to add the plot to\n",
    "\n",
    "    experiment : OneExperiment\n",
    "        An xarray DataArray with a vector 'time' and scalar 'control' coordinates.\n",
    "\n",
    "    offset : float, optional\n",
    "        A vertical offset to apply to before plotting\n",
    "\n",
    "    line_style : dict, optional\n",
    "        Any any keywords that can be passed to `matplotlib.axes.Axes.plot`\n",
    "\n",
    "    Returns\n",
    "    -------\n",
    "    curve : Line2D\n",
    "        The Line2D object for the curve\n",
    "    \"\"\"\n",
    "    # if the user does not give us input, \n",
    "    line_style = line_style if line_style is not None else {}\n",
    "    # if the user passes label in the line_style dict, let it win!\n",
    "    line_style.setdefault(\"label\", f\"control = {float(experiment.control):.1f}\")\n",
    "    # do the plot!\n",
    "    return ax.plot(experiment.time, experiment + offset, **line_style)\n"
   ]
  },
  {
   "cell_type": "markdown",
   "id": "31f773d5-4c5b-408a-ba06-0c09b8add064",
   "metadata": {},
   "source": [
    "Using this new functionality we can, for example, make all of the line thinner than default:"
   ]
  },
  {
   "cell_type": "code",
   "execution_count": null,
   "id": "aa7c594c-511e-49f7-b8b5-4b1aa8f3207d",
   "metadata": {},
   "outputs": [],
   "source": [
    "fig, ax = plt.subplots()\n",
    "for j, indx in enumerate([6, 0, -1]):\n",
    "    plot_one(ax, d[indx], j*4, line_style={'linewidth': .75})\n",
    "ax.set_xlabel('time (ms)')\n",
    "ax.set_ylabel('displacement [offset] (mm)')\n",
    "ax.legend();"
   ]
  },
  {
   "cell_type": "markdown",
   "id": "6436117e-02f9-4ca5-992b-00160301b99f",
   "metadata": {},
   "source": [
    "If we want more control over the way the styles cycle we can use `cycler`"
   ]
  },
  {
   "cell_type": "code",
   "execution_count": null,
   "id": "94350205-d05c-4dcf-83c5-41f444f84ec0",
   "metadata": {},
   "outputs": [],
   "source": [
    "from cycler import cycler"
   ]
  },
  {
   "cell_type": "markdown",
   "id": "d4a75045-0bb4-4801-89c0-8e6a871c2614",
   "metadata": {},
   "source": [
    "#### Cycle the Style\n",
    "\n",
    "The [cyler](https://matplotlib.org/cycler/) library lets us create complex cycles of styles by composing simple cycles.  For example to create a style cycle that varies both the color and the linestyle we would  do:"
   ]
  },
  {
   "cell_type": "code",
   "execution_count": null,
   "id": "0743f9d6-bbde-457a-9fc7-39c72004bd55",
   "metadata": {},
   "outputs": [],
   "source": [
    "color = cycler(color=['red', 'green', 'blue'])\n",
    "linestyles = cycler(linestyle=['-', '--', ':'])\n",
    "\n",
    "my_cycle = color + linestyles\n",
    "\n",
    "my_cycle"
   ]
  },
  {
   "cell_type": "markdown",
   "id": "27948559-ef2e-44c4-a61e-2512db14d3d3",
   "metadata": {},
   "source": [
    "Where we have a nice html repr.  If we iterate over `my_cycle` we see that each element is a dictionary"
   ]
  },
  {
   "cell_type": "code",
   "execution_count": null,
   "id": "41fb91c0-79e4-4b1f-aa32-a9eb41d7b85e",
   "metadata": {},
   "outputs": [],
   "source": [
    "for sty in my_cycle:\n",
    "    print(f'{type(sty)=} {sty=}')"
   ]
  },
  {
   "cell_type": "markdown",
   "id": "b5796cab-fa9a-45b5-85f5-7579f786b2d6",
   "metadata": {},
   "source": [
    "Because we added a way to pass the line style in to our helper `plot_one` we can directly use the `Cycler` to control the styling of our plots:"
   ]
  },
  {
   "cell_type": "code",
   "execution_count": null,
   "id": "62a1f729-4529-4226-9101-23587eccb842",
   "metadata": {},
   "outputs": [],
   "source": [
    "fig, ax = plt.subplots()\n",
    "for j, (indx, sty) in enumerate(zip([6, 0, -1], my_cycle)):\n",
    "    plot_one(ax, d[indx], j*4, line_style={'linewidth': .75, **sty})\n",
    "ax.set_xlabel('time (ms)')\n",
    "ax.set_ylabel('displacement [offset] (mm)')\n",
    "ax.legend();"
   ]
  },
  {
   "cell_type": "markdown",
   "id": "0afc885f-4370-4ec9-bbd8-9a3601e758f7",
   "metadata": {},
   "source": []
  }
 ],
 "metadata": {
  "kernelspec": {
   "display_name": "Python 3 (ipykernel)",
   "language": "python",
   "name": "python3"
  },
  "language_info": {
   "codemirror_mode": {
    "name": "ipython",
    "version": 3
   },
   "file_extension": ".py",
   "mimetype": "text/x-python",
   "name": "python",
   "nbconvert_exporter": "python",
   "pygments_lexer": "ipython3",
   "version": "3.9.6"
  }
 },
 "nbformat": 4,
 "nbformat_minor": 5
}
