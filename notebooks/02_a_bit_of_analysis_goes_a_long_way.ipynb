{
 "cells": [
  {
   "cell_type": "markdown",
   "id": "8adceed4-8600-467f-9f5e-8957dce99dfb",
   "metadata": {},
   "source": [
    "# A little bit of analysis goes a long way\n",
    "\n",
    "As great as looking at raw data is, it is not our ultimate goal.  Reminding our selves, why we are (hypothetically) doing this: we want to determine how *control* affects the physical properties of a cantilever.  We know that we can model this system as a damped harmonic oscillator so the displacement away from equilibrium as a function of time is given by:\n",
    "\n",
    "$$D(t) = A e^{-\\zeta\\omega_0t} \\sin\\left(\\sqrt{1 - \\zeta^2}\\omega_0t + \\varphi\\right)$$\n",
    "\n",
    "where $A$ and $\\varphi$ are set by the initial conditions, $\\zeta$ is the damping factor and $\\omega_0$ is the natural frequency of the oscillator."
   ]
  },
  {
   "cell_type": "markdown",
   "id": "452392f3-51bb-490a-a3a0-62a231b84d8a",
   "metadata": {},
   "source": [
    "## (non-linear) fitting"
   ]
  },
  {
   "cell_type": "code",
   "execution_count": 1,
   "id": "e836d1e2-aeeb-4c33-b9ac-903a7ebaacc8",
   "metadata": {},
   "outputs": [],
   "source": [
    "# not sure how else to get the helpers on the path!\n",
    "import sys\n",
    "sys.path.append('../scripts')"
   ]
  },
  {
   "cell_type": "code",
   "execution_count": 2,
   "id": "b3155c74-1ba6-4ce8-8fa6-f3b6dbe1ff91",
   "metadata": {},
   "outputs": [],
   "source": [
    "from data_gen import get_data, fit, Params\n",
    "d = get_data(25)\n",
    "m = d[6]"
   ]
  },
  {
   "cell_type": "markdown",
   "id": "0f27f0aa-cbe3-471c-876b-f591f13d82b6",
   "metadata": {},
   "source": [
    "In order to extract the fit parameters from our (noisy) data we will use the [`scipy.optimize.curve_fit`](https://docs.scipy.org/doc/scipy/reference/generated/scipy.optimize.curve_fit.html).  In the interest of time, we have implemented this in the helper module and will import it.\n",
    "\n",
    "In the same spirit as our `plot_one` method, the `fit` function wraps the underlying `curve_fit` function and provides 2 improvements for our purposes:\n",
    "\n",
    "1. Specializes from general non-linear fitting to \"damped harmonic fitting\" by baking in the functional form we know we want to fit\n",
    "2. Enriches the returned parameters from a numpy array to a `namedtuple` with nice reprs and a `sample` method.\n",
    "\n",
    "### TODO\n",
    "\n",
    "Detail design review of `fit` and `Params`"
   ]
  },
  {
   "cell_type": "code",
   "execution_count": 3,
   "id": "e67bcfc3-4b64-40d1-a4ec-a2e663f9e35c",
   "metadata": {},
   "outputs": [],
   "source": [
    "fit(m)"
   ]
  },
  {
   "cell_type": "markdown",
   "id": "9992a9a6-b2da-4545-878d-c8045e161bf7",
   "metadata": {},
   "source": [
    "## Add fit to plot"
   ]
  },
  {
   "cell_type": "code",
   "execution_count": 4,
   "id": "90f78cf3-755b-4ef2-919b-53ba11da4e36",
   "metadata": {},
   "outputs": [],
   "source": [
    "# interactive figures, requires ipypml!\n",
    "%matplotlib widget\n",
    "#%matplotlib inline\n",
    "import matplotlib.pyplot as plt\n",
    "import numpy as np\n",
    "import pandas as pd\n",
    "import scipy\n",
    "import xarray as xa"
   ]
  },
  {
   "cell_type": "code",
   "execution_count": null,
   "id": "dc159a8d-5778-4514-beec-dabfef6da91f",
   "metadata": {},
   "outputs": [],
   "source": []
  },
  {
   "cell_type": "code",
   "execution_count": 5,
   "id": "04c4683e-fccb-4505-8ec7-9f417c75f5e3",
   "metadata": {},
   "outputs": [],
   "source": [
    "def plot_one(\n",
    "    ax: \"Axes\",\n",
    "    experiment: \"OneExperiment\",\n",
    "    fit: Params,\n",
    "    offset: float = 0,\n",
    "    *,\n",
    "    line_style: \"Dict[str, Any]\" = None,\n",
    ") -> \"Dict[str, Artist]\":\n",
    "    \"\"\"Given a curve plot it (with an offset) and format a label for a legend.\n",
    "\n",
    "    Parameters\n",
    "    ----------\n",
    "    ax : mpl.Axes\n",
    "        The axes to add the plot to\n",
    "\n",
    "    experiment : OneExperiment\n",
    "        An xarray DataArray with a vector 'time' and scalar 'control' coordinates.\n",
    "        \n",
    "    fit : Params\n",
    "        The fit Parameters\n",
    "\n",
    "    offset : float, optional\n",
    "        A vertical offset to apply to before plotting\n",
    "\n",
    "    line_style : dict, optional\n",
    "        Any any keywords that can be passed to `matplotlib.axes.Axes.plot`\n",
    "\n",
    "    Returns\n",
    "    -------\n",
    "    dict : Dict[str, Artist]\n",
    "        A mapping of the Artists created by this function.  \n",
    "        \n",
    "        The expected keys are {'raw', 'fit', 'annotation'}\n",
    "    \"\"\"\n",
    "    # if the user does not give us input, \n",
    "    line_style = line_style if line_style is not None else {}\n",
    "    # if the user passes label in the line_style dict, let it win!\n",
    "    line_style.setdefault(\"label\", f\"control = {float(experiment.control):.1f}\")\n",
    "    # do the plot!\n",
    "    t = experiment.time\n",
    "    (ln,) = ax.plot(t, experiment + offset, **line_style)\n",
    "    (fit_ln,) = ax.plot(t, fit.sample(t) + offset, color=\"k\")\n",
    "    # Add annotation with the fit parameters\n",
    "    ann = ax.annotate(\n",
    "        f\"$\\\\zeta={fit.zeta:.2g}$, $\\\\omega_0={fit.omega:.2f}$\",\n",
    "        # This controls how xy is interpreted\n",
    "        xycoords=ax.get_yaxis_transform(),\n",
    "        # units are (axes-fraction, data)\n",
    "        # anchor the text at 95% of the width, and additional 0.5 above the offest\n",
    "        xy=(0.95, offset + 0.5),\n",
    "        # set the text alignment.  This anchors the text on the lower-right corner\n",
    "        ha=\"right\",\n",
    "        va=\"bottom\",\n",
    "    )\n",
    "    # return all three artists\n",
    "    return {\"raw\": ln, \"fit\": fit_ln, \"annotation\": ann}\n",
    "\n"
   ]
  },
  {
   "cell_type": "markdown",
   "id": "0157b962-6045-44c9-9c65-3f4f8c2ab73b",
   "metadata": {},
   "source": [
    "Modifying our standard example to do the fit and pass the result into `plot_one` we get:"
   ]
  },
  {
   "cell_type": "code",
   "execution_count": 6,
   "id": "cb04b490-a29c-40ba-8171-335a17e352a2",
   "metadata": {},
   "outputs": [],
   "source": [
    "fig, ax = plt.subplots()\n",
    "for j, indx in enumerate([6, 0, -1]):\n",
    "    plot_one(ax, d[indx], fit(d[indx]), j*4, line_style={'linewidth': .75})\n",
    "ax.set_xlabel('time (ms)')\n",
    "ax.set_ylabel('displacement [offset] (mm)')\n",
    "ax.legend();"
   ]
  },
  {
   "cell_type": "markdown",
   "id": "c7b2cc7a-559b-45c9-aaae-581525e9f779",
   "metadata": {},
   "source": [
    "This is better, and promising for our experiment as the fits look good, but the legend placement is not good.  Before we address the legend placement, we we are going to discuss the choices about the updated signature of `plot_one`. For Matplotlib content-only skip the next two sections."
   ]
  },
  {
   "cell_type": "markdown",
   "id": "cf4c2274-7e8d-4340-a9cd-a98bd1e40945",
   "metadata": {},
   "source": [
    "### What is the input (or do not cross the streams)\n",
    "\n",
    "Before we address the issue with the legend, we should talk about the choice of doing the fit inside or outside of `plot_one` and the more structured return type.\n",
    "\n",
    "On one hand, if we made the call to `fit` inside of `plot_one` it would not require any changes to the API of `plot_one`!  Instead of \"plot the experimental data\" it would now have the job of \"plot the experimental data and the best-fit curve\".  This is a very reasonable extension of the scope of `plot_one` and would make sure that the fit and the raw-data were always correctly associated, however doing so would mix analysis and visualization in a fundamentally inseparable way. If we wanted to use the fit parameters in some other part of the code we would have the choice of either re-calling `fit` or returning the values of the fit from `plot_one`. \n",
    "\n",
    "If we were to re-call `fit` multiple places in the code it would waste time (you may have noted a bit of lag in running the plotting cell just above) and would present a risk that different parts of the code would be calling different versions of `fit` (or for techniques that may not be fully deterministic get slightly different results) which would lead to inconsistencies.  Consider if we wrote a `fit_but_better`, then we would have to find _every_ place in our code that we called `fit` and change it.\n",
    "\n",
    "To avoid having to re-call `fit`, we could have `plot_one` return the fit values, however, this would plotting a pre-requisite for fitting!  Consider the case were we had hundreds of experiments, it would be farcical to have to plot (and then discard the figure) every data set to extract all of the fit parameters!  \n",
    "\n",
    "This exact scenario happened recently in my work.  Myself and a colleague were updating a notebook and package left by a now-departed post-doc.  When running a function called `compute_circular_average` we were (temporarily) stymied with a file permissions error because that function was plotting and saving a png to disk as part of doing the analysis!  While we did eventually find where the file path was set and update it to a directory where we had write-permissions, it was a debugging adventure unrelated to what our goal for the day was.\n",
    "\n",
    "While it may seem convenient to mix your plotting and analysis in the sort term, in the long term it will cause problems.  Thus, we have chosen to pass the fit results into `plot_one`!"
   ]
  },
  {
   "cell_type": "markdown",
   "id": "9a1b5086-febc-4c5d-b24e-dc05383ae2b4",
   "metadata": {},
   "source": [
    "### What to return\n",
    "\n",
    "Instead of returning a single `Line2D` we now return a dictionary of artist.  When writing functions that well create and add aritsts to a Figure, it is good practice to return them to the caller.  This enables updating these artists, by setting new data, changing the style, toggling the visibility, or adding interactions, which require a handle to the Python object that represents the Artist.\n",
    "\n",
    "With only three things, it would also be reasonable to return a tuple like\n",
    "```python\n",
    "def plot_one(...):\n",
    "    ...\n",
    "    return ln, fit_ln, ann\n",
    "\n",
    "```\n",
    "However, this includes a part of the API some constraints that will be hard to change later.  For example, that this returns three Artists is now part of the API.  If you were to put:\n",
    "```python\n",
    "a, b, c = plot_one(...)\n",
    "```\n",
    "in your code and you later increase the number of returns from `plot_one` (we just went from 1 to 3, it seems reasonable to expect it to go up again!) you will have a `TypeError`.  Alternatively by returning a dictionary so long as we do not remove a key (or change its meaning!) we will be able to add additional Artists to the return in a backwards compatible way.  When designing APIs considering what a choice will _prevent_ you from doing the future can be as important as what it lets you do now.\n",
    "\n",
    "Additionally, by returning the three items as a tuple we have to pick an order, but in this case it is not clear there is a \"natural\" or \"c1orrect\" order for these three things.  Should it be `(ln, fit_ln, ann)` or `(ln, ann, fit_ln)` or `(ann, fit_ln, ln)` ... (and so on through all the permutations).  Due to this ambiguity, when using `plot_one` you will have to remember (or check the docs) for the order.  In contrast dictionaries do not have an inherent order (yes, the iterate in insertion order, but we do not want to use that here) and instead give you names for the things.  It is easier to remember \"`plot_one` return the `'raw'`, `fit'`, and `annotation` artist\" than in remembering that plus what order they are in.\n",
    "\n",
    "One issue with returning a dictionary like this is that the flexibility that was an asset above, is a liability as the keys could be _anything_.  If you were reading code code that used `plot_one` and came across\n",
    "```python\n",
    "arts = plot_one(...)\n",
    "# will this work?!\n",
    "arts['raw'].set_lw(5)\n",
    "```\n",
    "you have no idea what is in there, how many artists there are etc.  If you can interactively inspect `arts` than you could see the keys of `{'raw', 'fit', 'annotation'}`, but from only static analysis you are out of luck (short of reading the source of `plot_one`).   Returning a dictionary could also be criticized because you have to access the contents via `__getitem__` rather than attribute access.  To address this Python has two built in options\n",
    "1. [collections.namedtuple](https://docs.python.org/3/library/collections.html#collections.namedtuple)\n",
    "2. [types.SimpleNamespace](https://docs.python.org/3/library/types.html#types.SimpleNamespace)\n",
    "2. [dataclasses](https://docs.python.org/3/library/dataclasses.html#module-dataclasses)\n",
    "\n",
    "For the rest of this course we are going to stick with returning dictionaries because it is simple and provides us enough flexibility without any extra overhead.  However is larger projects some of these techniques are worth considering."
   ]
  },
  {
   "cell_type": "markdown",
   "id": "499ffc94-0f76-4b59-8a56-18b9236d22b0",
   "metadata": {},
   "source": [
    "#### Simplenamespace\n",
    "\n",
    "For `SimpleNamespace`, which primarily solves the problem of wanting attribute access vs `__getitem__` access, we could do\n",
    "```python\n",
    "from types import SimpleNamespace\n",
    "\n",
    "def plot_one(...):\n",
    "    ...\n",
    "    return SimpleNamespace(raw=ln, fit=ft_ln, annotation=ann)\n",
    "```\n",
    "However, this comes at the cost of the easy iteration that a dictionary has via `.items()`.\n",
    "\n",
    "#### namedtuple\n",
    "\n",
    "To use `namedtuple`, which we discussed above in the context of `Params`,  we define"
   ]
  },
  {
   "cell_type": "code",
   "execution_count": 7,
   "id": "d1f84d94-7272-4117-ba4b-9f2b75fae4d7",
   "metadata": {},
   "outputs": [],
   "source": [
    "from collections import namedtuple\n",
    "PlotOneReturn = namedtuple('PlotOneReturn', ['raw', 'fit', 'annotation'])\n",
    "?PlotOneReturn"
   ]
  },
  {
   "cell_type": "markdown",
   "id": "54429835-8fa9-4ab8-b05e-4824c1dbceab",
   "metadata": {},
   "source": [
    "Then, from `plot_one` we would return\n",
    "\n",
    "```python\n",
    "def plot_one(...):\n",
    "    ...\n",
    "    return PlotOneReturn(ln, fit_ln, ann)\n",
    "```\n",
    "This addresses some of the issues with returning 3 items from `plot_one`: we now have names associated with the elements and can access them via `ret.raw`, however `PlotOneReturn` is still a `tuple` sub-class and the concerns about the order and fixed length still hold.\n",
    "\n",
    "On the other hand, if it is very unlikely that the number of returned artists will change, this is a lightweight way provide a more structure and to your code.\n",
    "\n",
    "#### dataclasses\n",
    "\n",
    "Dataclasses are the youngest of the three options, only being added in Python 3.7.  \n",
    "\n",
    "To create a dataclass for our return we could write\n"
   ]
  },
  {
   "cell_type": "code",
   "execution_count": 8,
   "id": "a219eca9-cc40-4c75-8508-8edc7e5e496c",
   "metadata": {},
   "outputs": [],
   "source": [
    "from dataclasses import dataclass\n",
    "from matplotlib.lines import Line2D\n",
    "from matplotlib.text import Annotation\n",
    "\n",
    "@dataclass\n",
    "class PlotOneReturnDC:\n",
    "    \"\"\"Class to track the returns from plot_one\"\"\"\n",
    "    raw: Line2D\n",
    "    fit: Line2D\n",
    "    annotation: Annotation\n",
    "\n",
    "? PlotOneReturnDC\n",
    "    "
   ]
  },
  {
   "cell_type": "markdown",
   "id": "6c33b01b-b860-425b-804c-fb71b635f72c",
   "metadata": {},
   "source": [
    "To use this in `plot_one` we would do\n",
    "```python\n",
    "def plot_one(...):\n",
    "    ...\n",
    "    return PlotOneReturnDC(raw=ln, fit=ft_ln, annotation=ann)\n",
    "```\n",
    "\n",
    "\n",
    "Because `dataclass` is a class-decorator (rather than a factory function like `namedtuple`), you can add additional methods such as"
   ]
  },
  {
   "cell_type": "code",
   "execution_count": 9,
   "id": "01b1bfec-3a96-4257-9b44-b26e4d5f363b",
   "metadata": {},
   "outputs": [],
   "source": [
    "\n",
    "@dataclass\n",
    "class PlotOneReturnDC:\n",
    "    \"\"\"Class to track the returns from plot_one\"\"\"\n",
    "    raw: Line2D\n",
    "    fit: Line2D\n",
    "    annotation: Annotation\n",
    "    \n",
    "    def toggle_annotation(self, *, visible=None):\n",
    "        \"\"\"\n",
    "        Toggle visibility of annotation text.\n",
    "        \n",
    "        Parameters\n",
    "        ----------\n",
    "        visible : bool, optional\n",
    "            If not None, set the visibility, otherwise toggle current sate. \n",
    "        \"\"\"\n",
    "        if visible is None:\n",
    "            visible = not self.annotation.get_visible()\n",
    "        self.annotation.set_visible(visible)\n",
    "\n",
    "? PlotOneReturnDC.toggle_annotation"
   ]
  },
  {
   "cell_type": "markdown",
   "id": "275a906e-5492-42ae-a91a-510fd22df4ba",
   "metadata": {},
   "source": [
    "By default `ax.legend` looks at the artist in the Axes and tries to find the \"best\" place to put the legend using a heuristic that minimizes overlapping with the data.  However, this is not fool-proof as "
   ]
  },
  {
   "cell_type": "markdown",
   "id": "6cec530d-01a2-47bd-ae24-423dbe07c8fc",
   "metadata": {},
   "source": [
    "### Fix the legend. \n",
    "\n",
    "By default `ax.legend` looks at the artist in the Axes and uses a heuristic find the \"best\" place to put it based on overlap.  However, as is evident in this figure, the heuristic can fail.  In that case we will need to try something different.\n",
    "\n",
    "The legends in Matplotlib are very flexible.  For more details see [the Legend Guide](https://matplotlib.org/stable/tutorials/intermediate/legend_guide.html) tutorial.\n",
    "\n",
    "#### Draggable legend\n",
    "\n",
    "If you only need these figures to be used interactive or in on-off manually saved cases, we can make the legend draggable and put it someplace better:"
   ]
  },
  {
   "cell_type": "code",
   "execution_count": 10,
   "id": "70413362-4cce-4150-aeae-183e9917ce76",
   "metadata": {},
   "outputs": [],
   "source": [
    "fig, ax = plt.subplots()\n",
    "for j, indx in enumerate([6, 0, -1]):\n",
    "    plot_one(ax, d[indx], fit(d[indx]), j*4, line_style={'linewidth': .75})\n",
    "ax.set_xlabel('time (ms)')\n",
    "ax.set_ylabel('displacement [offset] (mm)')\n",
    "leg = ax.legend()\n",
    "leg.set_draggable(True)"
   ]
  },
  {
   "cell_type": "markdown",
   "id": "fe5820f8-ff3d-400f-a9e4-462c1fa8ecdf",
   "metadata": {},
   "source": [
    "However, this manual intervention is antithetical to reproducible science so can we do better?\n",
    "\n",
    "#### A wide external legend\n",
    "\n",
    "Given the shape of the data there is not really space inside of the axes space for the legend.  One solution is to put the legend outside of the Axes to ensure that it can not collide with the actual plot!  \n",
    "\n",
    "Adapting the first example in \n",
    "[this subsection of the Legend Guide](https://matplotlib.org/stable/tutorials/intermediate/legend_guide.html#legend-location) we do:"
   ]
  },
  {
   "cell_type": "code",
   "execution_count": 11,
   "id": "7ee52ee3-aeb5-4930-a534-74eb4a68c5de",
   "metadata": {},
   "outputs": [],
   "source": [
    "fig, ax = plt.subplots()\n",
    "for j, indx in enumerate([6, 0, -1]):\n",
    "    plot_one(ax, d[indx], fit(d[indx]), j*4, line_style={'linewidth': 2})\n",
    "ax.set_xlabel('time (ms)')\n",
    "ax.set_ylabel('displacement [offset] (mm)')\n",
    "leg = ax.legend(\n",
    "    bbox_to_anchor=(0., 1.02, 1., .102), \n",
    "    loc='lower left', \n",
    "    ncol=3, \n",
    "    mode=\"expand\", \n",
    "    borderaxespad=0.\n",
    ")"
   ]
  },
  {
   "cell_type": "markdown",
   "id": "38326aa3-8b82-40e5-ad50-dbcc07a1cb53",
   "metadata": {},
   "source": [
    "which is definitely better!  However, it is a bit weird that we have some information, the fit parameters, in the annotation and other information, the control value, in the legend.  This plot, as it stands, also has significant accessibility issues.  If this plot were to be printed out in black and white it would be very difficult to correctly associate the legend with the lines (do the go top-to-bottom and left-to-right or bottom-to-top and left-to-right).  To solve this we can move the legend into the annotation with the fit parameters."
   ]
  },
  {
   "cell_type": "markdown",
   "id": "25176f8c-0ee6-485b-ba71-7d1295bae6d0",
   "metadata": {},
   "source": [
    "#### Annotation as legend\n",
    "\n",
    "Expanding on the annotation we already have in `plot_one` lets add the control information as well.  At its core `ax.annotation` is a way to specify:\n",
    "1. a point in the Axes\n",
    "2. on offset from that point\n",
    "3. a text label.\n",
    "There is significant complexity on how we defined each of those things.  For an extensive tutorial see [the Annotation Tutorial](https://matplotlib.org/stable/tutorials/text/annotations.html) in the Matplotlib documentation."
   ]
  },
  {
   "cell_type": "code",
   "execution_count": 14,
   "id": "0f92dce0-b29d-4c96-8e14-0fc2b06a1b1d",
   "metadata": {},
   "outputs": [],
   "source": [
    "def plot_one(\n",
    "    ax: \"Axes\",\n",
    "    experiment: \"OneExperiment\",\n",
    "    fit: Params,\n",
    "    offset: float = 0,\n",
    "    *,\n",
    "    line_style: \"Dict[str, Any]\" = None,\n",
    ") -> \"Dict[str, Artist]\":\n",
    "    \"\"\"Given a curve plot it (with an offset) and format a label for a legend.\n",
    "\n",
    "    Parameters\n",
    "    ----------\n",
    "    ax : mpl.Axes\n",
    "        The axes to add the plot to\n",
    "\n",
    "    experiment : OneExperiment\n",
    "        An xarray DataArray with a vector 'time' and scalar 'control' coordinates.\n",
    "        \n",
    "    fit : Params\n",
    "        The fit Parameters\n",
    "\n",
    "    offset : float, optional\n",
    "        A vertical offset to apply to before plotting\n",
    "\n",
    "    line_style : dict, optional\n",
    "        Any any keywords that can be passed to `matplotlib.axes.Axes.plot`\n",
    "\n",
    "    Returns\n",
    "    -------\n",
    "    dict : Dict[str, Artist]\n",
    "        A mapping of the Artists created by this function.  \n",
    "        \n",
    "        The expected keys are {'raw', 'fit', 'annotation'}\n",
    "    \"\"\"\n",
    "    # if the user does not give us input, \n",
    "    line_style = line_style if line_style is not None else {}\n",
    "    # if the user passes label in the line_style dict, let it win!\n",
    "    # even though we are going to add the control value to the annotation still leave\n",
    "    # the label here\n",
    "    label = f\"control = {float(experiment.control):.1f}\"\n",
    "    line_style.setdefault(\"label\", label)\n",
    "    # do the plot!\n",
    "    t = experiment.time\n",
    "    (ln,) = ax.plot(t, experiment + offset, **line_style)\n",
    "    (fit_ln,) = ax.plot(t, fit.sample(t) + offset, color=\"k\")\n",
    "    # Add annotation with the fit parameters\n",
    "    ann = ax.annotate(\n",
    "   \n",
    "        f\"{label}\\n$\\\\zeta={fit.zeta:.2g}$, $\\\\omega_0={fit.omega:.2f}$\",\n",
    "        # This controls how xy is interpreted\n",
    "        xycoords=ax.get_yaxis_transform(),\n",
    "        # units are (axes-fraction, data)\n",
    "        # anchor the text at 95% of the width, and additional 0.5 above the offest\n",
    "        xy=(0.95, offset + 0.5),\n",
    "        # set the text alignment.  This anchors the text on the lower-right corner\n",
    "        ha=\"right\",\n",
    "        va=\"baseline\",\n",
    "    )\n",
    "    # return all three artists\n",
    "    return {\"raw\": ln, \"fit\": fit_ln, \"annotation\": ann}\n",
    "\n"
   ]
  },
  {
   "cell_type": "code",
   "execution_count": 15,
   "id": "619c837a-1d2a-41fd-8c90-c5eb8b5c23cd",
   "metadata": {},
   "outputs": [],
   "source": [
    "fig, ax = plt.subplots()\n",
    "for j, indx in enumerate([6, 0, -1]):\n",
    "    plot_one(ax, d[indx], fit(d[indx]), j*4, line_style={'linewidth': 2})\n",
    "ax.set_xlabel('time (ms)')\n",
    "ax.set_ylabel('displacement [offset] (mm)')"
   ]
  },
  {
   "cell_type": "markdown",
   "id": "123615c4-8661-4275-ade5-d1fee8c883e0",
   "metadata": {},
   "source": [
    "Going through the `ax.annotate` call one line at a time:\n",
    "\n",
    "```python\n",
    "    ann = ax.annotate(\n",
    "```\n",
    "The first argument we pass in is the label we want to use.\n",
    "```python\n",
    "        f\"{label}\\n$\\\\zeta={fit.zeta:.2g}$, $\\\\omega_0={fit.omega:.2f}$\",\n",
    "```\n",
    "note both the use of math mode `$$` and of the `'\\n'` new-line literal to put line break in.  The default font Matplotlib uses also supports a wide-range of western alphabets, including Latin, Cyrillic, and Greek, so we could also use unicode for the Greek letters.\n",
    "\n",
    "The next is `xycoords` which sets which coordinate system Matplotlib should use to understand the position of the annotation (the next argument)\n",
    "```python\n",
    "        # This controls how xy is interpreted\n",
    "        xycoords=ax.get_yaxis_transform(),\n",
    "```\n",
    "With in a Figure and an Axes there are several coordinate systems available to us.  There are three main families\n",
    "1. the \"data\" coordinates, the \"natural\" coordinates in an Axes\n",
    "2. the \"Axes\" coordinates, both absolute and fractional, from the lower left of the Axes\n",
    "3. the \"Figure\" coordinates, both absolute and fractional, from the lower left of the Figure.\n",
    "For more details please see the [Transformations Tutorial](https://matplotlib.org/stable/tutorials/advanced/transforms_tutorial.html) in the Matplotlib documentation which explains the coordinate systems and the transformation functions between them.  In this case we are using a \"blended transformation\" where the x and y coordinates are from different coordinate systems.  In this case the x-coordinates is axes fraction (0 is the left spine, 1 is the right spine) and the y-coordinate is in data.  This allows us to specify the location of our annotation relative to both the edge of the Axes horizontally and relative to the data vertically. \n",
    "```python\n",
    "        # units are (axes-fraction, data)\n",
    "        # anchor the text at 95% of the width, and additional 0.5 above the offest\n",
    "        xy=(0.95, offset + 0.5),\n",
    "```\n",
    "If you pan or zoom the figure above you will see that the next does not move horizontally and stays 0.5 (in data coordinates) above its line.\n",
    "\n",
    "Finally we specify the alignment of the text. We can chose how to place the bounding box of the text relative to the point given by `xy`.  In this case we are using a horizontal alignment of `\"right\"` so the right edge of the bounding box will be at the given x-position and a vertical alignment of \"baseline\" so the text baseline (where you would underline, not bottom of the bounding box) is at the given y-postion. \n",
    "```python\n",
    "        # set the text alignment.  This anchors the text on the lower-right corner\n",
    "        ha=\"right\",\n",
    "        va=\"baseline\",\n",
    "    )\n",
    "```"
   ]
  },
  {
   "cell_type": "code",
   "execution_count": null,
   "id": "9c6e5b49-ae6e-4188-bbde-16e3d1ac6a73",
   "metadata": {},
   "outputs": [],
   "source": []
  }
 ],
 "metadata": {
  "kernelspec": {
   "display_name": "Python 3 (ipykernel)",
   "language": "python",
   "name": "python3"
  },
  "language_info": {
   "codemirror_mode": {
    "name": "ipython",
    "version": 3
   },
   "file_extension": ".py",
   "mimetype": "text/x-python",
   "name": "python",
   "nbconvert_exporter": "python",
   "pygments_lexer": "ipython3",
   "version": "3.9.6"
  }
 },
 "nbformat": 4,
 "nbformat_minor": 5
}
