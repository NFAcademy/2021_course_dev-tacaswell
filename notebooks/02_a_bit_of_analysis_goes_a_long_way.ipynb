{
 "cells": [
  {
   "cell_type": "markdown",
   "id": "8adceed4-8600-467f-9f5e-8957dce99dfb",
   "metadata": {},
   "source": [
    "# A little bit of analysis goes a long way\n",
    "\n",
    "As great as looking at raw data is, it is not our ultimate goal.  Reminding our selves, why we are (hypothetically) doing this: we want to determine how *control* affects the physical properties of a cantilever.  We know that we can model this system as a damped harmonic oscillator so the displacement away from equilibrium as a function of time is given by:\n",
    "\n",
    "$$D(t) = A e^{-\\zeta\\omega_0t} \\sin\\left(\\sqrt{1 - \\zeta^2}\\omega_0t + \\varphi\\right)$$\n",
    "\n",
    "where $A$ and $\\varphi$ are set by the initial conditions, $\\zeta$ is the damping factor and $\\omega_0$ is the natural frequency of the oscillator."
   ]
  },
  {
   "cell_type": "markdown",
   "id": "452392f3-51bb-490a-a3a0-62a231b84d8a",
   "metadata": {},
   "source": [
    "## (non-linear) fitting"
   ]
  },
  {
   "cell_type": "code",
   "execution_count": null,
   "id": "e836d1e2-aeeb-4c33-b9ac-903a7ebaacc8",
   "metadata": {},
   "outputs": [],
   "source": [
    "# not sure how else to get the helpers on the path!\n",
    "import sys\n",
    "sys.path.append('../scripts')"
   ]
  },
  {
   "cell_type": "code",
   "execution_count": null,
   "id": "b3155c74-1ba6-4ce8-8fa6-f3b6dbe1ff91",
   "metadata": {},
   "outputs": [],
   "source": [
    "from data_gen import get_data, fit, Params\n",
    "d = get_data(25)\n",
    "m = d[6]"
   ]
  },
  {
   "cell_type": "markdown",
   "id": "0f27f0aa-cbe3-471c-876b-f591f13d82b6",
   "metadata": {},
   "source": [
    "In order to extract the fit parameters from our (noisy) data we will use the [`scipy.optimize.curve_fit`](https://docs.scipy.org/doc/scipy/reference/generated/scipy.optimize.curve_fit.html).  In the interest of time, we have implemented this in the helper module and will import it.\n",
    "\n",
    "In the same spirit as our `plot_one` method, the `fit` function wraps the underlying `curve_fit` function and provides 2 improvements for our purposes:\n",
    "\n",
    "1. Specializes from general non-linear fitting to \"damped harmonic fitting\" by baking in the functional form we know we want to fit\n",
    "2. Enriches the returned parameters from a numpy array to a `namedtuple` with nice reprs and a `sample` method.\n",
    "\n",
    "### TODO\n",
    "\n",
    "Detail design review of `fit` and `Params`"
   ]
  },
  {
   "cell_type": "code",
   "execution_count": null,
   "id": "e67bcfc3-4b64-40d1-a4ec-a2e663f9e35c",
   "metadata": {},
   "outputs": [],
   "source": [
    "fit(m)"
   ]
  },
  {
   "cell_type": "markdown",
   "id": "9992a9a6-b2da-4545-878d-c8045e161bf7",
   "metadata": {},
   "source": [
    "## Add fit to plot"
   ]
  },
  {
   "cell_type": "code",
   "execution_count": null,
   "id": "90f78cf3-755b-4ef2-919b-53ba11da4e36",
   "metadata": {},
   "outputs": [],
   "source": [
    "# interactive figures, requires ipypml!\n",
    "%matplotlib widget\n",
    "#%matplotlib inline\n",
    "import matplotlib.pyplot as plt\n",
    "import numpy as np\n",
    "import pandas as pd\n",
    "import scipy\n",
    "import xarray as xa"
   ]
  },
  {
   "cell_type": "code",
   "execution_count": null,
   "id": "dc159a8d-5778-4514-beec-dabfef6da91f",
   "metadata": {},
   "outputs": [],
   "source": []
  },
  {
   "cell_type": "code",
   "execution_count": null,
   "id": "04c4683e-fccb-4505-8ec7-9f417c75f5e3",
   "metadata": {},
   "outputs": [],
   "source": [
    "def plot_one(\n",
    "    ax: \"Axes\",\n",
    "    experiment: \"OneExperiment\",\n",
    "    fit: Params,\n",
    "    offset: float = 0,\n",
    "    *,\n",
    "    line_style: \"Dict[str, Any]\" = None,\n",
    ") -> \"Dict[str, Artist]\":\n",
    "    \"\"\"Given a curve plot it (with an offset) and format a label for a legend.\n",
    "\n",
    "    Parameters\n",
    "    ----------\n",
    "    ax : mpl.Axes\n",
    "        The axes to add the plot to\n",
    "\n",
    "    experiment : OneExperiment\n",
    "        An xarray DataArray with a vector 'time' and scalar 'control' coordinates.\n",
    "        \n",
    "    fit : Params\n",
    "        The fit Parameters\n",
    "\n",
    "    offset : float, optional\n",
    "        A vertical offset to apply to before plotting\n",
    "\n",
    "    line_style : dict, optional\n",
    "        Any any keywords that can be passed to `matplotlib.axes.Axes.plot`\n",
    "\n",
    "    Returns\n",
    "    -------\n",
    "    curve : Line2D\n",
    "        The Line2D object for the curve\n",
    "    \"\"\"\n",
    "    # if the user does not give us input, \n",
    "    line_style = line_style if line_style is not None else {}\n",
    "    # if the user passes label in the line_style dict, let it win!\n",
    "    line_style.setdefault(\"label\", f\"control = {float(experiment.control):.1f}\")\n",
    "    # do the plot!\n",
    "    t = experiment.time\n",
    "    (ln,) = ax.plot(t, experiment + offset, **line_style)\n",
    "    (fit_ln,) = ax.plot(t, fit.sample(t) + offset, color=\"k\")\n",
    "    ann = ax.annotate(\n",
    "        f\"$\\\\zeta={fit.zeta:.2g}$, $\\\\omega_0={fit.omega:.2f}$\",\n",
    "        # units are (axes-fraction, data)\n",
    "        xy=(0.95, offset + 0.5),\n",
    "        xycoords=ax.get_yaxis_transform(),\n",
    "        # set the text alignment\n",
    "        ha=\"right\",\n",
    "        va=\"bottom\",\n",
    "    )\n",
    "    return {\"raw\": ln, \"fit\": fit_ln, \"annotation\": ann}\n",
    "\n"
   ]
  },
  {
   "cell_type": "markdown",
   "id": "037b869f-9c37-43d1-9b82-387440f93109",
   "metadata": {},
   "source": [
    "Which modifying our standard example to do the fit and pass the result into `plot_one`"
   ]
  },
  {
   "cell_type": "code",
   "execution_count": null,
   "id": "cb04b490-a29c-40ba-8171-335a17e352a2",
   "metadata": {},
   "outputs": [],
   "source": [
    "fig, ax = plt.subplots()\n",
    "for j, indx in enumerate([6, 0, -1]):\n",
    "    plot_one(ax, d[indx], fit(d[indx]), j*4, line_style={'linewidth': .75})\n",
    "ax.set_xlabel('time (ms)')\n",
    "ax.set_ylabel('displacement [offset] (mm)')\n",
    "ax.legend();"
   ]
  },
  {
   "cell_type": "markdown",
   "id": "cf4c2274-7e8d-4340-a9cd-a98bd1e40945",
   "metadata": {},
   "source": [
    "Before we address the issue with the legend, we should talk about the choice of doing the fit inside or outside of `plot_one` and the more structured return type.\n",
    "\n",
    "On one hand, if we made the call to `fit` inside of `plot_one` it would not require any changes to the API of `plot_one`!  Instead of \"plot the experimental data\" it would now have the job of \"plot the experimental data and the best-fit curve\".  This is a very reasonable extension of the scope of `plot_one` and would make sure that the fit and the raw-data were always correctly associated, however doing so would mix analysis and visualization in a fundamentally inseparable way. If we wanted to use the fit parameters in some other part of the code we would have the choice of either re-calling `fit` or returning the values of the fit from `plot_one`. \n",
    "\n",
    "If we were to re-call `fit` multiple places in the code it would waste time (you may have noted a bit of lag in running the plotting cell just above) and would present a risk that different parts of the code would be calling different versions of `fit` (or for techniques that may not be fully deterministic get slightly different results) which would lead to inconsistencies.  Consider if we wrote a `fit_but_better`, then we would have to find _every_ place in our code that we called `fit` and change it.\n",
    "\n",
    "To avoid having to re-call `fit`, we could have `plot_one` return the fit values, however, this would plotting a pre requisite for fitting!  Consider the case were we had hundreds of experiments, it would be farcical to have to plot (and then discard the figure) every data set to extract all of the fit parameters!\n",
    "\n",
    "Thus, we have chosen to pass the fit results into `plot_one`."
   ]
  },
  {
   "cell_type": "code",
   "execution_count": null,
   "id": "4ad4551d-add8-48b3-97fd-005026ce66c0",
   "metadata": {},
   "outputs": [],
   "source": []
  },
  {
   "cell_type": "code",
   "execution_count": null,
   "id": "d3358479-34a2-4f30-8798-c56f984aa6e1",
   "metadata": {},
   "outputs": [],
   "source": []
  }
 ],
 "metadata": {
  "kernelspec": {
   "display_name": "Python 3",
   "language": "python",
   "name": "python3"
  },
  "language_info": {
   "codemirror_mode": {
    "name": "ipython",
    "version": 3
   },
   "file_extension": ".py",
   "mimetype": "text/x-python",
   "name": "python",
   "nbconvert_exporter": "python",
   "pygments_lexer": "ipython3",
   "version": "3.8.10"
  }
 },
 "nbformat": 4,
 "nbformat_minor": 5
}
