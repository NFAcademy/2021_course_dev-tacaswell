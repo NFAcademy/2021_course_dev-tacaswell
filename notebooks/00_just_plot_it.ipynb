{
 "cells": [
  {
   "cell_type": "markdown",
   "id": "8b7894db-64cd-420c-9ecb-d95322481fb2",
   "metadata": {},
   "source": [
    "# Just Plot It!"
   ]
  },
  {
   "cell_type": "markdown",
   "id": "6e10e4c0-3168-43a7-98c0-896810de0c0b",
   "metadata": {
    "tags": []
   },
   "source": [
    "## Introduction"
   ]
  },
  {
   "cell_type": "markdown",
   "id": "d55c276e-151c-4ad5-8455-95a9cf88c73f",
   "metadata": {
    "tags": []
   },
   "source": [
    "### The System"
   ]
  },
  {
   "cell_type": "markdown",
   "id": "4f79240a-f94b-4915-a073-ee76f4a46318",
   "metadata": {
    "tags": []
   },
   "source": [
    "In this course we will work with a set of \"experimental\" data to illustrate going from \"raw\" measurement (or simulation) data through exploratory visualization to an (almost) paper ready figure.\n",
    "\n",
    "In this scenario, we have fabricated (or simulated) 25 cantilevers.  There is some value (suggestively called \"control\") that varies between the cantilevers and we want to see how the properties of the cantilever are affect by \"control\"."
   ]
  },
  {
   "cell_type": "markdown",
   "id": "9317c564-db08-409d-89e5-02553e1aa3b6",
   "metadata": {},
   "source": [
    "To see what this will look like physically, take part a \"clicky\" pen.  Hold one end of the spring in your fingers and flick the free end.  \n",
    "\n",
    "Or just watch this cat:"
   ]
  },
  {
   "cell_type": "code",
   "execution_count": 1,
   "id": "61acbc80-9d05-48a1-9a4c-32dc457ef439",
   "metadata": {},
   "outputs": [],
   "source": [
    "from IPython.display import YouTubeVideo\n",
    "YouTubeVideo('4aTagDSnclk?start=19')"
   ]
  },
  {
   "cell_type": "markdown",
   "id": "660c4237-6e76-4354-b829-5fd041134749",
   "metadata": {},
   "source": [
    "Springs, and our cantilevers,  are part of a class of systems known as (Damped) Harmonic Oscillators. We are going to measure the natural frequency and damping rate we deflect each cantilever by the same amount and then observe the position as a function of time as the vibrations damp out."
   ]
  },
  {
   "cell_type": "markdown",
   "id": "8283343b-d843-4516-ae02-232cfbcc71b3",
   "metadata": {
    "tags": []
   },
   "source": [
    "### The Tools"
   ]
  },
  {
   "cell_type": "markdown",
   "id": "7ebb2e80-4b10-4fa1-9746-81ca192a033e",
   "metadata": {
    "tags": []
   },
   "source": [
    "We are going make use of: \n",
    "\n",
    "- [jupyter](https://jupyter.org)\n",
    "- [numpy](https://numpy.org)\n",
    "- [matplotlib](https://matplotlib.org)\n",
    "- [scipy](https://www.scipy.org/scipylib/index.html)\n",
    "- [xarray](http://xarray.pydata.org/en/stable/index.html)\n",
    "- [pandas](https://pandas.pydata.org/docs/)\n",
    "\n",
    "We are only going to scratch the surface of what any of these libraries can do!  For the purposes of this course we assume you know numpy and Matplotlib at least to the level of LINKS TO OTHER COURSES.  We will only be using one aspect (least square fitting) from scipy so no prior familiarity is needed.  Similarly, we will only be superficially making use of pandas and xarray to provided access to structured data.  No prior familiarity is required and if you want to learn more see LINK TO OTHER COURSES."
   ]
  },
  {
   "cell_type": "code",
   "execution_count": 1,
   "id": "85336420-a871-492f-bb15-f93dc96c2527",
   "metadata": {},
   "outputs": [],
   "source": [
    "# interactive figures, requires ipypml!\n",
    "%matplotlib widget\n",
    "#%matplotlib inline\n",
    "import matplotlib.pyplot as plt\n",
    "import numpy as np\n",
    "import pandas as pd\n",
    "import scipy\n",
    "import xarray as xa"
   ]
  },
  {
   "cell_type": "markdown",
   "id": "5fbed005-64df-4470-94ca-6969151ac2fd",
   "metadata": {
    "tags": []
   },
   "source": [
    "### Philsophy"
   ]
  },
  {
   "cell_type": "markdown",
   "id": "034c1d74-dd43-474c-99f3-b779d44126df",
   "metadata": {},
   "source": [
    "While this coures uses Matplotlib for the visualization, the high-level lessons of this course are transferable to any plotting tools (in any language).\n",
    "\n",
    "At its core, programing in the process of taking existing tools (libraries) and building new tools more fit to your purpose.  This course will walk through a concrete example, starting with a pile of data and ending with a paper figure, of how to think about and design scientific visualizations tools tuned to exactly *your* data and questions."
   ]
  },
  {
   "cell_type": "markdown",
   "id": "bb1a5299-8d9b-41b0-9b50-783299335f01",
   "metadata": {
    "tags": []
   },
   "source": [
    "## The Data"
   ]
  },
  {
   "cell_type": "markdown",
   "id": "5072a8a3-fa75-4d13-afc0-165f58233b81",
   "metadata": {},
   "source": [
    "### Accessing data\n",
    "\n",
    "As a rule-of-thumb I/O logic should be kept out of the inner loops of analysis or plotting.  This will, in the medium term, lead to more re-usable and maintainable code.  Remember your most frequent collaborator is yourself in 6 months.  Be kind to your (future) self and write re-usable, maintainable, and understandable code now ;)\n",
    "\n",
    "In this case, we have a data (simulation) function `get_data` that will simulate the experiment and returns to us a [`xarray.DataArray`](http://xarray.pydata.org/en/stable/quick-overview.html#create-a-dataarray).   `xarray.DataArray` is (roughly) a N-dimensional numpy array that is enriched by the concept of coordinates and indies on the the axes and meta-data.  \n",
    "\n",
    "`xarray` has much more functionality than we will use in this course!"
   ]
  },
  {
   "cell_type": "code",
   "execution_count": 2,
   "id": "20e3da98-6cae-4437-bc63-ebe0a985e3db",
   "metadata": {},
   "outputs": [],
   "source": [
    "# not sure how else to get the helpers on the path!\n",
    "import sys\n",
    "sys.path.append('../scripts')"
   ]
  },
  {
   "cell_type": "code",
   "execution_count": 3,
   "id": "606aad55-d3a9-4121-890d-1c404120736a",
   "metadata": {},
   "outputs": [],
   "source": [
    "from data_gen import get_data, fit"
   ]
  },
  {
   "cell_type": "markdown",
   "id": "124b29f0-52da-4bfa-a824-05a50d563cc8",
   "metadata": {},
   "source": [
    "### First look"
   ]
  },
  {
   "cell_type": "markdown",
   "id": "6653e023-e576-4c26-a1d5-5ff97fb3b5eb",
   "metadata": {},
   "source": [
    "Using the function `get_data` we can pull an `xarray.DataArray` into our namespace and the use the html repr from xarray to get a first look at the data"
   ]
  },
  {
   "cell_type": "code",
   "execution_count": 4,
   "id": "0b6684f5-f8ab-43a6-9bf7-24dfe988761e",
   "metadata": {},
   "outputs": [],
   "source": [
    "d = get_data(25)\n",
    "d"
   ]
  },
  {
   "cell_type": "markdown",
   "id": "ce5fceef-995e-43d1-8b81-45c720a2b4c8",
   "metadata": {},
   "source": [
    "From this we can see that we have a, more-or-less, 2D array with 25 rows, each of which is a measurement that is a 4,112 point time series.  Because this is an DataArray it also caries **coordinates** giving the value of **control** for each row and the time for each column."
   ]
  },
  {
   "cell_type": "markdown",
   "id": "f088c508-ab07-4dc8-a066-9816a537f742",
   "metadata": {},
   "source": [
    "If we pull out just one row we can see a single experimental measurement."
   ]
  },
  {
   "cell_type": "code",
   "execution_count": 5,
   "id": "faa01a62-988c-43a7-ab26-8256ef216b64",
   "metadata": {},
   "outputs": [],
   "source": [
    "d[6]"
   ]
  },
  {
   "cell_type": "markdown",
   "id": "3bc6a29d-35a6-4ec7-831d-0a74563db486",
   "metadata": {},
   "source": [
    "We can see that the **control** coordinate now gives 1 value, but the **time** coordinate is still a vector.  We can access these values via attribute access (which we will use later):"
   ]
  },
  {
   "cell_type": "code",
   "execution_count": 6,
   "id": "86113472-b8f8-42bf-b832-c9c256c1452d",
   "metadata": {},
   "outputs": [],
   "source": [
    "d[6].control"
   ]
  },
  {
   "cell_type": "code",
   "execution_count": 7,
   "id": "85340240-3ea3-4067-8b49-db118bdb61d2",
   "metadata": {},
   "outputs": [],
   "source": [
    "d[6].time"
   ]
  },
  {
   "cell_type": "markdown",
   "id": "80cbd47f-ee5c-4ada-b4fd-685a5a771dc3",
   "metadata": {
    "tags": []
   },
   "source": [
    "## The Plotting"
   ]
  },
  {
   "cell_type": "markdown",
   "id": "3bcd0724-30b3-4810-bf4c-7e8ea20dd325",
   "metadata": {
    "tags": []
   },
   "source": [
    "### Plot it?\n",
    "Looking at (truncated) lists of numbers is not intuitive or informative for most people, to get a better sense of what this data looks like lets plot it!  We know that `Axes.plot` can plot multiple lines at once so lets try naively throwing `d` at `ax.plot`!"
   ]
  },
  {
   "cell_type": "code",
   "execution_count": 8,
   "id": "94182402-ae29-4fbc-bff5-c1f3018c91bb",
   "metadata": {},
   "outputs": [],
   "source": [
    "fig, ax = plt.subplots()\n",
    "ax.plot(d);"
   ]
  },
  {
   "cell_type": "markdown",
   "id": "8b32ef5f-6d96-4684-852f-4520888c6928",
   "metadata": {},
   "source": [
    "While this does look sort of cool, it is not *useful*.  What has happened is that Matplotlib has looked at our `(25, 4_112)` array and said \"Clearly, you have a table that is 4k columns wide and 25 rows long.  What you want is each column plotted!\".  Thus, what we are seeing is \"The deflection at a fixed time as a function of cantilever ID number\".  This plot does accurately reflect that data that we passed in, but this is a nearly meaningless plot!\n",
    "\n",
    "Visualization, just like writing, is a tool for communication and you need to think about the story you want to tell as you make the plots."
   ]
  },
  {
   "cell_type": "markdown",
   "id": "6c59d144-f1f5-49f4-8318-0a8111dd6aa9",
   "metadata": {
    "tags": []
   },
   "source": [
    "### Sidebar: Explicit vs Implicit Matplotlib API\n",
    "\n",
    "There are two related but distinct APIs to use Matplotlib: the \"Explicit\" (nee \"Object Oriented\") and \"Implicit\" (nee \"pyplot/pylab\"). The Implicit API is implemented using the Explicit API; anything you can do with the Implicit API you can do with the Explicit API, but there is some functionality of the Explicit API that is not exposed through the Implicit API.  It is also possible, but with one exception not suggested, to mix the two APIs.\n",
    "\n",
    "The core conceptual difference is than in the Implicit API Matplotlib has a notion of the \"current figure\" and \"current axes\" that all of the calls re-directed to. For example, the implementation of `plt.plot` (once you scroll past the docstring) is only 1 line:"
   ]
  },
  {
   "cell_type": "code",
   "execution_count": 9,
   "id": "c017137c-6f9f-49f7-beb2-d4d37c5bbb49",
   "metadata": {
    "tags": []
   },
   "outputs": [],
   "source": [
    "?? plt.plot"
   ]
  },
  {
   "cell_type": "markdown",
   "id": "b79c98cb-4194-4ed9-8efe-c00566ba1cde",
   "metadata": {
    "tags": []
   },
   "source": [
    "While the Implicit API reduces the boilerplate required to get some things done and is convenient when working in a terminal, it comes at the cost of Matplotlib maintaining global state of which Axes is currently active!  When scripting this can quickly become a headache to manage."
   ]
  },
  {
   "cell_type": "markdown",
   "id": "77389e86-1a84-4d66-bee0-e9daee250997",
   "metadata": {},
   "source": [
    "When using Matplotlib with one of the GUI backends, we do need to, at the library level, keep track of some global state so that the plot windows remain responsive.  If you are embedding Matplotlib in your own GUI application you are responsible for this, but when working at an IPython prompt,`pyplot` takes care of this for you."
   ]
  },
  {
   "cell_type": "markdown",
   "id": "acb4d3f6-02fa-4f3f-8794-2bb4dc8fdbe1",
   "metadata": {},
   "source": [
    "This course is going to, with the exception of creating new figures, always use the Explict API."
   ]
  },
  {
   "cell_type": "markdown",
   "id": "67df8f9b-f5e8-488e-b92a-b6c015086e06",
   "metadata": {},
   "source": [
    "### Plot it!\n",
    "\n",
    "What we really want to see is the transpose of the above (A line per experiment as a function of time):"
   ]
  },
  {
   "cell_type": "code",
   "execution_count": 10,
   "id": "72e44ee5-8e12-474e-9530-12551ce87e00",
   "metadata": {},
   "outputs": [],
   "source": [
    "fig, ax = plt.subplots()\n",
    "ax.plot(d.T);"
   ]
  },
  {
   "cell_type": "markdown",
   "id": "899a4e7e-2a25-498f-94ef-f3afdefe1460",
   "metadata": {},
   "source": [
    "Which is better!  If we squint a bit (or zoom in if we are using `ipympl` or a GUI backend) can sort of see each of the individual oscillators ringing-down over time."
   ]
  },
  {
   "cell_type": "markdown",
   "id": "a6df6c17-38e1-448d-88c3-e36fe95c37ff",
   "metadata": {},
   "source": [
    "### Just one at a time"
   ]
  },
  {
   "cell_type": "markdown",
   "id": "08da82c2-4bdf-445d-a9a9-0a7dab711a38",
   "metadata": {},
   "source": [
    "To make it easier to see lets plot just one of the curves:"
   ]
  },
  {
   "cell_type": "code",
   "execution_count": 11,
   "id": "557a9d50-7bd4-433a-af0a-e11a7ef46f7c",
   "metadata": {},
   "outputs": [],
   "source": [
    "fig, ax = plt.subplots()\n",
    "ax.plot(d[6]);"
   ]
  },
  {
   "cell_type": "markdown",
   "id": "0d45a5c4-bf2c-4b37-8d2f-6d97b3394b62",
   "metadata": {},
   "source": [
    "### Pass freshman physics"
   ]
  },
  {
   "cell_type": "markdown",
   "id": "8ab875c6-9f66-42fb-930b-1112cff5e29e",
   "metadata": {},
   "source": [
    "While we do have just one line on the axes and can see what is going on, this plot would, right, be marked as little-to-no credit if turned in as part of a freshman Physics lab!  We do not have a meaningful value on the x-axis, no legend, and no axis labels!"
   ]
  },
  {
   "cell_type": "code",
   "execution_count": 17,
   "id": "962eb672-ed51-43c6-ade9-479d9e5f5438",
   "metadata": {},
   "outputs": [],
   "source": [
    "fig, ax = plt.subplots()\n",
    "m = d[6]\n",
    "ax.plot(m.time, m, label=f'control = {float(m.control):.1f}')\n",
    "ax.set_xlabel('time (ms)')\n",
    "ax.set_ylabel('displacement (mm)')\n",
    "ax.legend();"
   ]
  },
  {
   "cell_type": "markdown",
   "id": "be20934a-e871-43b1-a2da-033b7da80d8a",
   "metadata": {},
   "source": [
    "At this point we have a minimally acceptable plot!  It shows us one curve with axis labels (with units!) and a legend.  With "
   ]
  },
  {
   "cell_type": "markdown",
   "id": "c0ac3039-c968-4ab6-870a-3292500328c6",
   "metadata": {},
   "source": [
    "### sidebar: xarray plotting"
   ]
  },
  {
   "cell_type": "markdown",
   "id": "c3a4c340-2fa6-448d-9958-7a882882ae8c",
   "metadata": {},
   "source": [
    "Because xarray knows more about the structure of your data than a couple of numpy arrays in your local namespace or dictionary, it can make smarter choices about the automatic visualization:"
   ]
  },
  {
   "cell_type": "code",
   "execution_count": 18,
   "id": "33192707-9a88-464c-99ff-69536c2221e1",
   "metadata": {},
   "outputs": [],
   "source": [
    "fig, ax = plt.subplots()\n",
    "m.plot(ax=ax)"
   ]
  },
  {
   "cell_type": "markdown",
   "id": "580b4467-0295-47fd-9608-89d837a18e5f",
   "metadata": {},
   "source": [
    "While this is helpful exploritory plotting, `xarray` makes some choices that make it difficult to compose plotting multiple data sets."
   ]
  },
  {
   "cell_type": "code",
   "execution_count": null,
   "id": "bce5efa3-26b0-45c8-adcd-d3d189767608",
   "metadata": {},
   "outputs": [],
   "source": []
  }
 ],
 "metadata": {
  "kernelspec": {
   "display_name": "Python 3 (ipykernel)",
   "language": "python",
   "name": "python3"
  },
  "language_info": {
   "codemirror_mode": {
    "name": "ipython",
    "version": 3
   },
   "file_extension": ".py",
   "mimetype": "text/x-python",
   "name": "python",
   "nbconvert_exporter": "python",
   "pygments_lexer": "ipython3",
   "version": "3.9.6"
  }
 },
 "nbformat": 4,
 "nbformat_minor": 5
}
